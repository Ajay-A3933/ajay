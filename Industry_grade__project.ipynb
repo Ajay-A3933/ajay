{
  "nbformat": 4,
  "nbformat_minor": 0,
  "metadata": {
    "colab": {
      "provenance": [],
      "authorship_tag": "ABX9TyPSWLX7zZeZdA4B9p6HCSi8",
      "include_colab_link": true
    },
    "kernelspec": {
      "name": "python3",
      "display_name": "Python 3"
    },
    "language_info": {
      "name": "python"
    }
  },
  "cells": [
    {
      "cell_type": "markdown",
      "metadata": {
        "id": "view-in-github",
        "colab_type": "text"
      },
      "source": [
        "<a href=\"https://colab.research.google.com/github/Ajay-A3933/ajay/blob/master/Industry_grade__project.ipynb\" target=\"_parent\"><img src=\"https://colab.research.google.com/assets/colab-badge.svg\" alt=\"Open In Colab\"/></a>"
      ]
    },
    {
      "cell_type": "markdown",
      "source": [
        "#ML Model for Auto Insurance Industry\n"
      ],
      "metadata": {
        "id": "yoVzq-r-XndN"
      }
    },
    {
      "cell_type": "markdown",
      "source": [
        "##Aim of the Project\n",
        "\n",
        "The aim of the project is to build a Machine Learning Model to predict whether an owner will initiate an auto insurance claim in the next year."
      ],
      "metadata": {
        "id": "llh-p-JGXvFe"
      }
    },
    {
      "cell_type": "markdown",
      "source": [
        "###Background\n",
        "The auto insurance industry is witnessing a paradigm shift. Since auto insurance company consists of homogenous good thereby making it difficult to differentiate product A from product B, also companies are fighting a price war (for insurance price). On top of that, the distribution channel is shifting more from traditional insurance brokers to online purchases, which means that the ability for companies to interact through human touchpoints is limited, and customers should be quoted at a reasonable price. A good price quote is one that makes the customer purchase the policy and helps the company to increase the profits. Also, the insurance premium is calculated based on more than 50+ parameters, which means that traditional business analytics-based algorithms are now limited in their ability to differentiate among customers based on subtle parameters."
      ],
      "metadata": {
        "id": "8LJxxibHb9Q3"
      }
    },
    {
      "cell_type": "markdown",
      "source": [
        "**The model shall mainly support the following use cases:**\n",
        "\n",
        "1. **Conquering Market Share**: Capture market share by lowering the prices of the premium for the customers, who are least likely to claim.\n",
        "\n",
        "2. **Risk Management**: Charge the right premium from the customer, who is likely to claim insurance in the coming year\n",
        "\n",
        "3. **Smooth Processing**: Reduce the complexity of pricing models. Most of the transactions are happening online with larger customer attributes (thanks to the internet and social media). Harness the power of huge data to build complex ML models\n",
        "\n",
        "4. **Increased Profits**: As per industry estimate 1% reduction in the claim can boost profit by 10%. So, through the ML model, we can identify and deny the insurance to the driver who will make a claim. Thus, ensuring reduced claim outgo and increased profit."
      ],
      "metadata": {
        "id": "TzBiRCZsc1xk"
      }
    },
    {
      "cell_type": "markdown",
      "source": [
        "Importing libaries"
      ],
      "metadata": {
        "id": "_x4bIEhXdlpc"
      }
    },
    {
      "cell_type": "code",
      "source": [
        "import pandas as pd\n",
        "import numpy as np\n",
        "from datetime import datetime\n",
        "from sklearn.linear_model import LogisticRegression\n",
        "from sklearn import svm\n",
        "from sklearn.model_selection import RandomizedSearchCV, GridSearchCV\n",
        "from xgboost import XGBClassifier\n",
        "import xgboost as xgb\n",
        "from sklearn.ensemble import RandomForestClassifier\n",
        "from sklearn.ensemble import AdaBoostClassifier\n",
        "from sklearn.neural_network import MLPClassifier\n",
        "from sklearn import metrics\n",
        "from sklearn.metrics import confusion_matrix,mean_squared_error,accuracy_score\n",
        "from sklearn.metrics import precision_score,recall_score,roc_auc_score,f1_score,cohen_kappa_score\n",
        "from sklearn.utils import resample\n",
        "from pprint import pprint\n",
        "\n",
        "import plotly as py\n",
        "import plotly.graph_objs as go\n",
        "import matplotlib.pyplot as plt\n",
        "import seaborn as sns\n",
        "import math\n",
        "from IPython.display import Markdown, display\n",
        "import statsmodels.api as sm # import API\n",
        "from matplotlib.pyplot import xticks"
      ],
      "metadata": {
        "id": "GeaeWW-vXnEW"
      },
      "execution_count": null,
      "outputs": []
    },
    {
      "cell_type": "code",
      "execution_count": null,
      "metadata": {
        "colab": {
          "base_uri": "https://localhost:8080/",
          "height": 17
        },
        "id": "O_Mok9UhVRjp",
        "outputId": "fe6d7f23-5be9-43fb-85d5-6a2dc1557002"
      },
      "outputs": [
        {
          "output_type": "display_data",
          "data": {
            "text/html": [
              "        <script type=\"text/javascript\">\n",
              "        window.PlotlyConfig = {MathJaxConfig: 'local'};\n",
              "        if (window.MathJax && window.MathJax.Hub && window.MathJax.Hub.Config) {window.MathJax.Hub.Config({SVG: {font: \"STIX-Web\"}});}\n",
              "        if (typeof require !== 'undefined') {\n",
              "        require.undef(\"plotly\");\n",
              "        requirejs.config({\n",
              "            paths: {\n",
              "                'plotly': ['https://cdn.plot.ly/plotly-2.24.1.min']\n",
              "            }\n",
              "        });\n",
              "        require(['plotly'], function(Plotly) {\n",
              "            window._Plotly = Plotly;\n",
              "        });\n",
              "        }\n",
              "        </script>\n",
              "        "
            ]
          },
          "metadata": {}
        }
      ],
      "source": [
        "sns.set(style=\"whitegrid\")\n",
        "pd.set_option('display.max_columns', 100)\n",
        "py.offline.init_notebook_mode(connected=True)\n",
        "pd.options.display.float_format = '{:20,.2f}'.format\n",
        "import warnings\n",
        "warnings.filterwarnings('ignore')\n",
        "%matplotlib inline"
      ]
    },
    {
      "cell_type": "code",
      "source": [
        "def log(string):\n",
        "    display(Markdown(\"> <span style='color:blue'>\"+string+\"</span>\"))\n",
        "\n",
        "def header(string):\n",
        "    display(Markdown(\"------ \"))\n",
        "    display(Markdown(\"### \"+string))\n",
        "\n",
        "def get_variable_type(element) :\n",
        "    \"\"\"\n",
        "     Check is columns are of Continuous or Categorical variable.\n",
        "     Assumption is that if\n",
        "                 unique count < 20 then categorical\n",
        "                 unique count >= 20 and dtype = [int64 or float64] then continuous\n",
        "     \"\"\"\n",
        "    if element==0:\n",
        "        return \"Not Known\"\n",
        "    elif element < 20 and element!=0 :\n",
        "        return \"Categorical\"\n",
        "    elif element >= 20 and element!=0 :\n",
        "        return \"Continous\"\n",
        "\n",
        "def predict_variable_type(metadata_matrix):\n",
        "    metadata_matrix[\"Variable_Type\"] = metadata_matrix[\"Unique_Values_Count\"].apply(get_variable_type).astype(str)\n",
        "    metadata_matrix[\"frequency\"] = metadata_matrix[\"Null_Count\"] - metadata_matrix[\"Null_Count\"]\n",
        "    metadata_matrix[\"frequency\"].astype(int)\n",
        "    return metadata_matrix\n",
        "\n",
        "def get_meta_data(dataframe) :\n",
        "    \"\"\"\n",
        "     Method to get Meta-Data about any dataframe passed\n",
        "    \"\"\"\n",
        "    metadata_matrix = pd.DataFrame({\n",
        "                    'Datatype' : dataframe.dtypes.astype(str), # data types of columns\n",
        "                    'Non_Null_Count': dataframe.count(axis = 0).astype(int), # total elements in columns\n",
        "                    'Null_Count': dataframe.isnull().sum().astype(int), # total null values in columns\n",
        "                    'Null_Percentage': dataframe.isnull().sum()/len(dataframe) * 100, # percentage of null values\n",
        "                    'Unique_Values_Count': dataframe.nunique().astype(int) # number of unique values\n",
        "                     })\n",
        "\n",
        "    metadata_matrix = predict_variable_type(metadata_matrix)\n",
        "    return metadata_matrix\n",
        "\n",
        "def plot_data_pie_chat(dataframe,col) :\n",
        "    header(\"Stats for \"+col+\" Datatype Percentage Distribution\")\n",
        "    dataframe_group = dataframe.groupby(col).frequency.count().reset_index()\n",
        "    dataframe_group.sort_values([col], axis=0,ascending=False, inplace=True)\n",
        "    trace = go.Pie(labels=dataframe_group[col].tolist(), values=dataframe_group[\"frequency\"].tolist())\n",
        "    layout = go.Layout(title=\"Datatype Percentage Distribution\")\n",
        "    fig = go.Figure(data=[trace], layout=layout)\n",
        "    py.offline.iplot(fig)\n",
        "\n",
        "def pairplot(x_axis,y_axis) :\n",
        "    sns.pairplot(car_df,x_vars=x_axis,y_vars=y_axis,height=4,aspect=1,kind=\"scatter\")\n",
        "    plt.show()\n",
        "\n",
        "def heatmap(x,y,dataframe):\n",
        "    plt.figure(figsize=(x,y))\n",
        "    sns.heatmap(dataframe.corr(),cmap=\"OrRd\",annot=True)\n",
        "    plt.show()\n",
        "\n",
        "def bar_count_plot(dataframe,col_name) :\n",
        "    plt.figure(figsize=(16,8))\n",
        "    plt.title(col_name + 'Histogram')\n",
        "    sns.countplot(dataframe[col_name], palette=(\"plasma\"))\n",
        "    xticks(rotation = 90)\n",
        "    plt.show()\n",
        "\n",
        "def color_red(val):\n",
        "    \"\"\"\n",
        "    Takes a scalar and returns a string with\n",
        "    the css property `'color: red'` for value\n",
        "    greater than 10 , black otherwise.\n",
        "    \"\"\"\n",
        "    color = 'red' if val > 5 else 'black'\n",
        "    return 'color: %s' % color\n",
        "\n",
        "def accuracy_result(y_test, y_pred_test):\n",
        "    from sklearn import metrics\n",
        "    from sklearn.metrics import confusion_matrix, classification_report\n",
        "    confusion_matrix=metrics.confusion_matrix(y_test, y_pred_test)\n",
        "    # USE THE IMPORTED CONFUSION MATRIX\n",
        "    print('\\n CONFUSION MATRIX:\\n ', confusion_matrix,'\\n')\n",
        "    TP = confusion_matrix[1, 1]\n",
        "    TN = confusion_matrix[0, 0]\n",
        "    FP = confusion_matrix[0, 1]\n",
        "    FN = confusion_matrix[1, 0]\n",
        "    false_positive_rate = round(FP / float(TN + FP),3)\n",
        "    print('FPR: ', false_positive_rate)\n",
        "    print('TPR/ RECALL/ SENSTIVITY: ', round(metrics.recall_score(y_test, y_pred_test), 3))\n",
        "    print('PRECISION:' ,round(metrics.precision_score(y_test, y_pred_test), 3))\n",
        "    specificity = round(TN / (TN + FP),3)\n",
        "    print('SPECIFICITY: ',specificity)\n",
        "    print('ACCURACY: ', np.round(metrics.accuracy_score(y_test, y_pred_test),3))\n",
        "    print('ROC AUC: ', np.round(roc_auc_score(y_test, y_pred_test),3))\n",
        "    print('Cohens kappa: ',np.round(cohen_kappa_score(y_test, y_pred_test),3))\n",
        "    print('F1 score: ', np.round(f1_score(y_test, y_pred_test),3))\n",
        "    print('\\n CLASSIFICATION REPORT: \\n',classification_report(y_test,y_pred_test))\n",
        "    return"
      ],
      "metadata": {
        "id": "X6oIKIBgd16x"
      },
      "execution_count": null,
      "outputs": []
    },
    {
      "cell_type": "markdown",
      "source": [
        "Import data"
      ],
      "metadata": {
        "id": "Ku4-p3pUfw6R"
      }
    },
    {
      "cell_type": "code",
      "source": [
        "df = pd.read_csv('/content/train(1).csv')\n",
        "df1= df.copy()\n",
        "df.head()"
      ],
      "metadata": {
        "colab": {
          "base_uri": "https://localhost:8080/",
          "height": 226
        },
        "id": "kTV8XZVkftoo",
        "outputId": "db7890d1-8909-4440-cec9-78e3e96e350f"
      },
      "execution_count": null,
      "outputs": [
        {
          "output_type": "execute_result",
          "data": {
            "text/plain": [
              "   id  target  ps_ind_01  ps_ind_02_cat  ps_ind_03  ps_ind_04_cat  \\\n",
              "0   7       0          2              2          5              1   \n",
              "1   9       0          1              1          7              0   \n",
              "2  13       0          5              4          9              1   \n",
              "3  16       0          0              1          2              0   \n",
              "4  17       0          0              2          0              1   \n",
              "\n",
              "   ps_ind_05_cat  ps_ind_06_bin  ps_ind_07_bin  ps_ind_08_bin  ps_ind_09_bin  \\\n",
              "0              0              0              1              0              0   \n",
              "1              0              0              0              1              0   \n",
              "2              0              0              0              1              0   \n",
              "3              0              1              0              0              0   \n",
              "4              0              1              0              0              0   \n",
              "\n",
              "   ps_ind_10_bin  ps_ind_11_bin  ps_ind_12_bin  ps_ind_13_bin  ps_ind_14  \\\n",
              "0              0              0              0              0          0   \n",
              "1              0              0              0              0          0   \n",
              "2              0              0              0              0          0   \n",
              "3              0              0              0              0          0   \n",
              "4              0              0              0              0          0   \n",
              "\n",
              "   ps_ind_15  ps_ind_16_bin  ps_ind_17_bin  ps_ind_18_bin  \\\n",
              "0         11              0              1              0   \n",
              "1          3              0              0              1   \n",
              "2         12              1              0              0   \n",
              "3          8              1              0              0   \n",
              "4          9              1              0              0   \n",
              "\n",
              "             ps_reg_01            ps_reg_02            ps_reg_03  \\\n",
              "0                 0.70                 0.20                 0.72   \n",
              "1                 0.80                 0.40                 0.77   \n",
              "2                 0.00                 0.00                -1.00   \n",
              "3                 0.90                 0.20                 0.58   \n",
              "4                 0.70                 0.60                 0.84   \n",
              "\n",
              "   ps_car_01_cat  ps_car_02_cat  ps_car_03_cat  ps_car_04_cat  ps_car_05_cat  \\\n",
              "0             10              1             -1              0              1   \n",
              "1             11              1             -1              0             -1   \n",
              "2              7              1             -1              0             -1   \n",
              "3              7              1              0              0              1   \n",
              "4             11              1             -1              0             -1   \n",
              "\n",
              "   ps_car_06_cat  ps_car_07_cat  ps_car_08_cat  ps_car_09_cat  ps_car_10_cat  \\\n",
              "0              4              1              0              0              1   \n",
              "1             11              1              1              2              1   \n",
              "2             14              1              1              2              1   \n",
              "3             11              1              1              3              1   \n",
              "4             14              1              1              2              1   \n",
              "\n",
              "   ps_car_11_cat  ps_car_11            ps_car_12            ps_car_13  \\\n",
              "0             12          2                 0.40                 0.88   \n",
              "1             19          3                 0.32                 0.62   \n",
              "2             60          1                 0.32                 0.64   \n",
              "3            104          1                 0.37                 0.54   \n",
              "4             82          3                 0.32                 0.57   \n",
              "\n",
              "             ps_car_14            ps_car_15           ps_calc_01  \\\n",
              "0                 0.37                 3.61                 0.60   \n",
              "1                 0.39                 2.45                 0.30   \n",
              "2                 0.35                 3.32                 0.50   \n",
              "3                 0.29                 2.00                 0.60   \n",
              "4                 0.37                 2.00                 0.40   \n",
              "\n",
              "            ps_calc_02           ps_calc_03           ps_calc_04  \\\n",
              "0                 0.50                 0.20                 3.00   \n",
              "1                 0.10                 0.30                 2.00   \n",
              "2                 0.70                 0.10                 2.00   \n",
              "3                 0.90                 0.10                 2.00   \n",
              "4                 0.60                 0.00                 2.00   \n",
              "\n",
              "            ps_calc_05           ps_calc_06           ps_calc_07  \\\n",
              "0                 1.00                10.00                 1.00   \n",
              "1                 1.00                 9.00                 5.00   \n",
              "2                 2.00                 9.00                 1.00   \n",
              "3                 4.00                 7.00                 1.00   \n",
              "4                 2.00                 6.00                 3.00   \n",
              "\n",
              "            ps_calc_08           ps_calc_09           ps_calc_10  \\\n",
              "0                10.00                 1.00                 5.00   \n",
              "1                 8.00                 1.00                 7.00   \n",
              "2                 8.00                 2.00                 7.00   \n",
              "3                 8.00                 4.00                 2.00   \n",
              "4                10.00                 2.00                12.00   \n",
              "\n",
              "            ps_calc_11           ps_calc_12           ps_calc_13  \\\n",
              "0                 9.00                 1.00                 5.00   \n",
              "1                 3.00                 1.00                 1.00   \n",
              "2                 4.00                 2.00                 7.00   \n",
              "3                 2.00                 2.00                 4.00   \n",
              "4                 3.00                 1.00                 1.00   \n",
              "\n",
              "            ps_calc_14       ps_calc_15_bin       ps_calc_16_bin  \\\n",
              "0                 8.00                 0.00                 1.00   \n",
              "1                 9.00                 0.00                 1.00   \n",
              "2                 7.00                 0.00                 1.00   \n",
              "3                 9.00                 0.00                 0.00   \n",
              "4                 3.00                 0.00                 0.00   \n",
              "\n",
              "        ps_calc_17_bin       ps_calc_18_bin       ps_calc_19_bin  \\\n",
              "0                 1.00                 0.00                 0.00   \n",
              "1                 1.00                 0.00                 1.00   \n",
              "2                 1.00                 0.00                 1.00   \n",
              "3                 0.00                 0.00                 0.00   \n",
              "4                 0.00                 1.00                 1.00   \n",
              "\n",
              "        ps_calc_20_bin  \n",
              "0                 1.00  \n",
              "1                 0.00  \n",
              "2                 0.00  \n",
              "3                 0.00  \n",
              "4                 0.00  "
            ],
            "text/html": [
              "\n",
              "  <div id=\"df-544f557a-b32d-4cda-980c-964f8d49a145\" class=\"colab-df-container\">\n",
              "    <div>\n",
              "<style scoped>\n",
              "    .dataframe tbody tr th:only-of-type {\n",
              "        vertical-align: middle;\n",
              "    }\n",
              "\n",
              "    .dataframe tbody tr th {\n",
              "        vertical-align: top;\n",
              "    }\n",
              "\n",
              "    .dataframe thead th {\n",
              "        text-align: right;\n",
              "    }\n",
              "</style>\n",
              "<table border=\"1\" class=\"dataframe\">\n",
              "  <thead>\n",
              "    <tr style=\"text-align: right;\">\n",
              "      <th></th>\n",
              "      <th>id</th>\n",
              "      <th>target</th>\n",
              "      <th>ps_ind_01</th>\n",
              "      <th>ps_ind_02_cat</th>\n",
              "      <th>ps_ind_03</th>\n",
              "      <th>ps_ind_04_cat</th>\n",
              "      <th>ps_ind_05_cat</th>\n",
              "      <th>ps_ind_06_bin</th>\n",
              "      <th>ps_ind_07_bin</th>\n",
              "      <th>ps_ind_08_bin</th>\n",
              "      <th>ps_ind_09_bin</th>\n",
              "      <th>ps_ind_10_bin</th>\n",
              "      <th>ps_ind_11_bin</th>\n",
              "      <th>ps_ind_12_bin</th>\n",
              "      <th>ps_ind_13_bin</th>\n",
              "      <th>ps_ind_14</th>\n",
              "      <th>ps_ind_15</th>\n",
              "      <th>ps_ind_16_bin</th>\n",
              "      <th>ps_ind_17_bin</th>\n",
              "      <th>ps_ind_18_bin</th>\n",
              "      <th>ps_reg_01</th>\n",
              "      <th>ps_reg_02</th>\n",
              "      <th>ps_reg_03</th>\n",
              "      <th>ps_car_01_cat</th>\n",
              "      <th>ps_car_02_cat</th>\n",
              "      <th>ps_car_03_cat</th>\n",
              "      <th>ps_car_04_cat</th>\n",
              "      <th>ps_car_05_cat</th>\n",
              "      <th>ps_car_06_cat</th>\n",
              "      <th>ps_car_07_cat</th>\n",
              "      <th>ps_car_08_cat</th>\n",
              "      <th>ps_car_09_cat</th>\n",
              "      <th>ps_car_10_cat</th>\n",
              "      <th>ps_car_11_cat</th>\n",
              "      <th>ps_car_11</th>\n",
              "      <th>ps_car_12</th>\n",
              "      <th>ps_car_13</th>\n",
              "      <th>ps_car_14</th>\n",
              "      <th>ps_car_15</th>\n",
              "      <th>ps_calc_01</th>\n",
              "      <th>ps_calc_02</th>\n",
              "      <th>ps_calc_03</th>\n",
              "      <th>ps_calc_04</th>\n",
              "      <th>ps_calc_05</th>\n",
              "      <th>ps_calc_06</th>\n",
              "      <th>ps_calc_07</th>\n",
              "      <th>ps_calc_08</th>\n",
              "      <th>ps_calc_09</th>\n",
              "      <th>ps_calc_10</th>\n",
              "      <th>ps_calc_11</th>\n",
              "      <th>ps_calc_12</th>\n",
              "      <th>ps_calc_13</th>\n",
              "      <th>ps_calc_14</th>\n",
              "      <th>ps_calc_15_bin</th>\n",
              "      <th>ps_calc_16_bin</th>\n",
              "      <th>ps_calc_17_bin</th>\n",
              "      <th>ps_calc_18_bin</th>\n",
              "      <th>ps_calc_19_bin</th>\n",
              "      <th>ps_calc_20_bin</th>\n",
              "    </tr>\n",
              "  </thead>\n",
              "  <tbody>\n",
              "    <tr>\n",
              "      <th>0</th>\n",
              "      <td>7</td>\n",
              "      <td>0</td>\n",
              "      <td>2</td>\n",
              "      <td>2</td>\n",
              "      <td>5</td>\n",
              "      <td>1</td>\n",
              "      <td>0</td>\n",
              "      <td>0</td>\n",
              "      <td>1</td>\n",
              "      <td>0</td>\n",
              "      <td>0</td>\n",
              "      <td>0</td>\n",
              "      <td>0</td>\n",
              "      <td>0</td>\n",
              "      <td>0</td>\n",
              "      <td>0</td>\n",
              "      <td>11</td>\n",
              "      <td>0</td>\n",
              "      <td>1</td>\n",
              "      <td>0</td>\n",
              "      <td>0.70</td>\n",
              "      <td>0.20</td>\n",
              "      <td>0.72</td>\n",
              "      <td>10</td>\n",
              "      <td>1</td>\n",
              "      <td>-1</td>\n",
              "      <td>0</td>\n",
              "      <td>1</td>\n",
              "      <td>4</td>\n",
              "      <td>1</td>\n",
              "      <td>0</td>\n",
              "      <td>0</td>\n",
              "      <td>1</td>\n",
              "      <td>12</td>\n",
              "      <td>2</td>\n",
              "      <td>0.40</td>\n",
              "      <td>0.88</td>\n",
              "      <td>0.37</td>\n",
              "      <td>3.61</td>\n",
              "      <td>0.60</td>\n",
              "      <td>0.50</td>\n",
              "      <td>0.20</td>\n",
              "      <td>3.00</td>\n",
              "      <td>1.00</td>\n",
              "      <td>10.00</td>\n",
              "      <td>1.00</td>\n",
              "      <td>10.00</td>\n",
              "      <td>1.00</td>\n",
              "      <td>5.00</td>\n",
              "      <td>9.00</td>\n",
              "      <td>1.00</td>\n",
              "      <td>5.00</td>\n",
              "      <td>8.00</td>\n",
              "      <td>0.00</td>\n",
              "      <td>1.00</td>\n",
              "      <td>1.00</td>\n",
              "      <td>0.00</td>\n",
              "      <td>0.00</td>\n",
              "      <td>1.00</td>\n",
              "    </tr>\n",
              "    <tr>\n",
              "      <th>1</th>\n",
              "      <td>9</td>\n",
              "      <td>0</td>\n",
              "      <td>1</td>\n",
              "      <td>1</td>\n",
              "      <td>7</td>\n",
              "      <td>0</td>\n",
              "      <td>0</td>\n",
              "      <td>0</td>\n",
              "      <td>0</td>\n",
              "      <td>1</td>\n",
              "      <td>0</td>\n",
              "      <td>0</td>\n",
              "      <td>0</td>\n",
              "      <td>0</td>\n",
              "      <td>0</td>\n",
              "      <td>0</td>\n",
              "      <td>3</td>\n",
              "      <td>0</td>\n",
              "      <td>0</td>\n",
              "      <td>1</td>\n",
              "      <td>0.80</td>\n",
              "      <td>0.40</td>\n",
              "      <td>0.77</td>\n",
              "      <td>11</td>\n",
              "      <td>1</td>\n",
              "      <td>-1</td>\n",
              "      <td>0</td>\n",
              "      <td>-1</td>\n",
              "      <td>11</td>\n",
              "      <td>1</td>\n",
              "      <td>1</td>\n",
              "      <td>2</td>\n",
              "      <td>1</td>\n",
              "      <td>19</td>\n",
              "      <td>3</td>\n",
              "      <td>0.32</td>\n",
              "      <td>0.62</td>\n",
              "      <td>0.39</td>\n",
              "      <td>2.45</td>\n",
              "      <td>0.30</td>\n",
              "      <td>0.10</td>\n",
              "      <td>0.30</td>\n",
              "      <td>2.00</td>\n",
              "      <td>1.00</td>\n",
              "      <td>9.00</td>\n",
              "      <td>5.00</td>\n",
              "      <td>8.00</td>\n",
              "      <td>1.00</td>\n",
              "      <td>7.00</td>\n",
              "      <td>3.00</td>\n",
              "      <td>1.00</td>\n",
              "      <td>1.00</td>\n",
              "      <td>9.00</td>\n",
              "      <td>0.00</td>\n",
              "      <td>1.00</td>\n",
              "      <td>1.00</td>\n",
              "      <td>0.00</td>\n",
              "      <td>1.00</td>\n",
              "      <td>0.00</td>\n",
              "    </tr>\n",
              "    <tr>\n",
              "      <th>2</th>\n",
              "      <td>13</td>\n",
              "      <td>0</td>\n",
              "      <td>5</td>\n",
              "      <td>4</td>\n",
              "      <td>9</td>\n",
              "      <td>1</td>\n",
              "      <td>0</td>\n",
              "      <td>0</td>\n",
              "      <td>0</td>\n",
              "      <td>1</td>\n",
              "      <td>0</td>\n",
              "      <td>0</td>\n",
              "      <td>0</td>\n",
              "      <td>0</td>\n",
              "      <td>0</td>\n",
              "      <td>0</td>\n",
              "      <td>12</td>\n",
              "      <td>1</td>\n",
              "      <td>0</td>\n",
              "      <td>0</td>\n",
              "      <td>0.00</td>\n",
              "      <td>0.00</td>\n",
              "      <td>-1.00</td>\n",
              "      <td>7</td>\n",
              "      <td>1</td>\n",
              "      <td>-1</td>\n",
              "      <td>0</td>\n",
              "      <td>-1</td>\n",
              "      <td>14</td>\n",
              "      <td>1</td>\n",
              "      <td>1</td>\n",
              "      <td>2</td>\n",
              "      <td>1</td>\n",
              "      <td>60</td>\n",
              "      <td>1</td>\n",
              "      <td>0.32</td>\n",
              "      <td>0.64</td>\n",
              "      <td>0.35</td>\n",
              "      <td>3.32</td>\n",
              "      <td>0.50</td>\n",
              "      <td>0.70</td>\n",
              "      <td>0.10</td>\n",
              "      <td>2.00</td>\n",
              "      <td>2.00</td>\n",
              "      <td>9.00</td>\n",
              "      <td>1.00</td>\n",
              "      <td>8.00</td>\n",
              "      <td>2.00</td>\n",
              "      <td>7.00</td>\n",
              "      <td>4.00</td>\n",
              "      <td>2.00</td>\n",
              "      <td>7.00</td>\n",
              "      <td>7.00</td>\n",
              "      <td>0.00</td>\n",
              "      <td>1.00</td>\n",
              "      <td>1.00</td>\n",
              "      <td>0.00</td>\n",
              "      <td>1.00</td>\n",
              "      <td>0.00</td>\n",
              "    </tr>\n",
              "    <tr>\n",
              "      <th>3</th>\n",
              "      <td>16</td>\n",
              "      <td>0</td>\n",
              "      <td>0</td>\n",
              "      <td>1</td>\n",
              "      <td>2</td>\n",
              "      <td>0</td>\n",
              "      <td>0</td>\n",
              "      <td>1</td>\n",
              "      <td>0</td>\n",
              "      <td>0</td>\n",
              "      <td>0</td>\n",
              "      <td>0</td>\n",
              "      <td>0</td>\n",
              "      <td>0</td>\n",
              "      <td>0</td>\n",
              "      <td>0</td>\n",
              "      <td>8</td>\n",
              "      <td>1</td>\n",
              "      <td>0</td>\n",
              "      <td>0</td>\n",
              "      <td>0.90</td>\n",
              "      <td>0.20</td>\n",
              "      <td>0.58</td>\n",
              "      <td>7</td>\n",
              "      <td>1</td>\n",
              "      <td>0</td>\n",
              "      <td>0</td>\n",
              "      <td>1</td>\n",
              "      <td>11</td>\n",
              "      <td>1</td>\n",
              "      <td>1</td>\n",
              "      <td>3</td>\n",
              "      <td>1</td>\n",
              "      <td>104</td>\n",
              "      <td>1</td>\n",
              "      <td>0.37</td>\n",
              "      <td>0.54</td>\n",
              "      <td>0.29</td>\n",
              "      <td>2.00</td>\n",
              "      <td>0.60</td>\n",
              "      <td>0.90</td>\n",
              "      <td>0.10</td>\n",
              "      <td>2.00</td>\n",
              "      <td>4.00</td>\n",
              "      <td>7.00</td>\n",
              "      <td>1.00</td>\n",
              "      <td>8.00</td>\n",
              "      <td>4.00</td>\n",
              "      <td>2.00</td>\n",
              "      <td>2.00</td>\n",
              "      <td>2.00</td>\n",
              "      <td>4.00</td>\n",
              "      <td>9.00</td>\n",
              "      <td>0.00</td>\n",
              "      <td>0.00</td>\n",
              "      <td>0.00</td>\n",
              "      <td>0.00</td>\n",
              "      <td>0.00</td>\n",
              "      <td>0.00</td>\n",
              "    </tr>\n",
              "    <tr>\n",
              "      <th>4</th>\n",
              "      <td>17</td>\n",
              "      <td>0</td>\n",
              "      <td>0</td>\n",
              "      <td>2</td>\n",
              "      <td>0</td>\n",
              "      <td>1</td>\n",
              "      <td>0</td>\n",
              "      <td>1</td>\n",
              "      <td>0</td>\n",
              "      <td>0</td>\n",
              "      <td>0</td>\n",
              "      <td>0</td>\n",
              "      <td>0</td>\n",
              "      <td>0</td>\n",
              "      <td>0</td>\n",
              "      <td>0</td>\n",
              "      <td>9</td>\n",
              "      <td>1</td>\n",
              "      <td>0</td>\n",
              "      <td>0</td>\n",
              "      <td>0.70</td>\n",
              "      <td>0.60</td>\n",
              "      <td>0.84</td>\n",
              "      <td>11</td>\n",
              "      <td>1</td>\n",
              "      <td>-1</td>\n",
              "      <td>0</td>\n",
              "      <td>-1</td>\n",
              "      <td>14</td>\n",
              "      <td>1</td>\n",
              "      <td>1</td>\n",
              "      <td>2</td>\n",
              "      <td>1</td>\n",
              "      <td>82</td>\n",
              "      <td>3</td>\n",
              "      <td>0.32</td>\n",
              "      <td>0.57</td>\n",
              "      <td>0.37</td>\n",
              "      <td>2.00</td>\n",
              "      <td>0.40</td>\n",
              "      <td>0.60</td>\n",
              "      <td>0.00</td>\n",
              "      <td>2.00</td>\n",
              "      <td>2.00</td>\n",
              "      <td>6.00</td>\n",
              "      <td>3.00</td>\n",
              "      <td>10.00</td>\n",
              "      <td>2.00</td>\n",
              "      <td>12.00</td>\n",
              "      <td>3.00</td>\n",
              "      <td>1.00</td>\n",
              "      <td>1.00</td>\n",
              "      <td>3.00</td>\n",
              "      <td>0.00</td>\n",
              "      <td>0.00</td>\n",
              "      <td>0.00</td>\n",
              "      <td>1.00</td>\n",
              "      <td>1.00</td>\n",
              "      <td>0.00</td>\n",
              "    </tr>\n",
              "  </tbody>\n",
              "</table>\n",
              "</div>\n",
              "    <div class=\"colab-df-buttons\">\n",
              "\n",
              "  <div class=\"colab-df-container\">\n",
              "    <button class=\"colab-df-convert\" onclick=\"convertToInteractive('df-544f557a-b32d-4cda-980c-964f8d49a145')\"\n",
              "            title=\"Convert this dataframe to an interactive table.\"\n",
              "            style=\"display:none;\">\n",
              "\n",
              "  <svg xmlns=\"http://www.w3.org/2000/svg\" height=\"24px\" viewBox=\"0 -960 960 960\">\n",
              "    <path d=\"M120-120v-720h720v720H120Zm60-500h600v-160H180v160Zm220 220h160v-160H400v160Zm0 220h160v-160H400v160ZM180-400h160v-160H180v160Zm440 0h160v-160H620v160ZM180-180h160v-160H180v160Zm440 0h160v-160H620v160Z\"/>\n",
              "  </svg>\n",
              "    </button>\n",
              "\n",
              "  <style>\n",
              "    .colab-df-container {\n",
              "      display:flex;\n",
              "      gap: 12px;\n",
              "    }\n",
              "\n",
              "    .colab-df-convert {\n",
              "      background-color: #E8F0FE;\n",
              "      border: none;\n",
              "      border-radius: 50%;\n",
              "      cursor: pointer;\n",
              "      display: none;\n",
              "      fill: #1967D2;\n",
              "      height: 32px;\n",
              "      padding: 0 0 0 0;\n",
              "      width: 32px;\n",
              "    }\n",
              "\n",
              "    .colab-df-convert:hover {\n",
              "      background-color: #E2EBFA;\n",
              "      box-shadow: 0px 1px 2px rgba(60, 64, 67, 0.3), 0px 1px 3px 1px rgba(60, 64, 67, 0.15);\n",
              "      fill: #174EA6;\n",
              "    }\n",
              "\n",
              "    .colab-df-buttons div {\n",
              "      margin-bottom: 4px;\n",
              "    }\n",
              "\n",
              "    [theme=dark] .colab-df-convert {\n",
              "      background-color: #3B4455;\n",
              "      fill: #D2E3FC;\n",
              "    }\n",
              "\n",
              "    [theme=dark] .colab-df-convert:hover {\n",
              "      background-color: #434B5C;\n",
              "      box-shadow: 0px 1px 3px 1px rgba(0, 0, 0, 0.15);\n",
              "      filter: drop-shadow(0px 1px 2px rgba(0, 0, 0, 0.3));\n",
              "      fill: #FFFFFF;\n",
              "    }\n",
              "  </style>\n",
              "\n",
              "    <script>\n",
              "      const buttonEl =\n",
              "        document.querySelector('#df-544f557a-b32d-4cda-980c-964f8d49a145 button.colab-df-convert');\n",
              "      buttonEl.style.display =\n",
              "        google.colab.kernel.accessAllowed ? 'block' : 'none';\n",
              "\n",
              "      async function convertToInteractive(key) {\n",
              "        const element = document.querySelector('#df-544f557a-b32d-4cda-980c-964f8d49a145');\n",
              "        const dataTable =\n",
              "          await google.colab.kernel.invokeFunction('convertToInteractive',\n",
              "                                                    [key], {});\n",
              "        if (!dataTable) return;\n",
              "\n",
              "        const docLinkHtml = 'Like what you see? Visit the ' +\n",
              "          '<a target=\"_blank\" href=https://colab.research.google.com/notebooks/data_table.ipynb>data table notebook</a>'\n",
              "          + ' to learn more about interactive tables.';\n",
              "        element.innerHTML = '';\n",
              "        dataTable['output_type'] = 'display_data';\n",
              "        await google.colab.output.renderOutput(dataTable, element);\n",
              "        const docLink = document.createElement('div');\n",
              "        docLink.innerHTML = docLinkHtml;\n",
              "        element.appendChild(docLink);\n",
              "      }\n",
              "    </script>\n",
              "  </div>\n",
              "\n",
              "\n",
              "<div id=\"df-8e1a8a10-d6f6-4986-abde-ba8bc3644611\">\n",
              "  <button class=\"colab-df-quickchart\" onclick=\"quickchart('df-8e1a8a10-d6f6-4986-abde-ba8bc3644611')\"\n",
              "            title=\"Suggest charts\"\n",
              "            style=\"display:none;\">\n",
              "\n",
              "<svg xmlns=\"http://www.w3.org/2000/svg\" height=\"24px\"viewBox=\"0 0 24 24\"\n",
              "     width=\"24px\">\n",
              "    <g>\n",
              "        <path d=\"M19 3H5c-1.1 0-2 .9-2 2v14c0 1.1.9 2 2 2h14c1.1 0 2-.9 2-2V5c0-1.1-.9-2-2-2zM9 17H7v-7h2v7zm4 0h-2V7h2v10zm4 0h-2v-4h2v4z\"/>\n",
              "    </g>\n",
              "</svg>\n",
              "  </button>\n",
              "\n",
              "<style>\n",
              "  .colab-df-quickchart {\n",
              "      --bg-color: #E8F0FE;\n",
              "      --fill-color: #1967D2;\n",
              "      --hover-bg-color: #E2EBFA;\n",
              "      --hover-fill-color: #174EA6;\n",
              "      --disabled-fill-color: #AAA;\n",
              "      --disabled-bg-color: #DDD;\n",
              "  }\n",
              "\n",
              "  [theme=dark] .colab-df-quickchart {\n",
              "      --bg-color: #3B4455;\n",
              "      --fill-color: #D2E3FC;\n",
              "      --hover-bg-color: #434B5C;\n",
              "      --hover-fill-color: #FFFFFF;\n",
              "      --disabled-bg-color: #3B4455;\n",
              "      --disabled-fill-color: #666;\n",
              "  }\n",
              "\n",
              "  .colab-df-quickchart {\n",
              "    background-color: var(--bg-color);\n",
              "    border: none;\n",
              "    border-radius: 50%;\n",
              "    cursor: pointer;\n",
              "    display: none;\n",
              "    fill: var(--fill-color);\n",
              "    height: 32px;\n",
              "    padding: 0;\n",
              "    width: 32px;\n",
              "  }\n",
              "\n",
              "  .colab-df-quickchart:hover {\n",
              "    background-color: var(--hover-bg-color);\n",
              "    box-shadow: 0 1px 2px rgba(60, 64, 67, 0.3), 0 1px 3px 1px rgba(60, 64, 67, 0.15);\n",
              "    fill: var(--button-hover-fill-color);\n",
              "  }\n",
              "\n",
              "  .colab-df-quickchart-complete:disabled,\n",
              "  .colab-df-quickchart-complete:disabled:hover {\n",
              "    background-color: var(--disabled-bg-color);\n",
              "    fill: var(--disabled-fill-color);\n",
              "    box-shadow: none;\n",
              "  }\n",
              "\n",
              "  .colab-df-spinner {\n",
              "    border: 2px solid var(--fill-color);\n",
              "    border-color: transparent;\n",
              "    border-bottom-color: var(--fill-color);\n",
              "    animation:\n",
              "      spin 1s steps(1) infinite;\n",
              "  }\n",
              "\n",
              "  @keyframes spin {\n",
              "    0% {\n",
              "      border-color: transparent;\n",
              "      border-bottom-color: var(--fill-color);\n",
              "      border-left-color: var(--fill-color);\n",
              "    }\n",
              "    20% {\n",
              "      border-color: transparent;\n",
              "      border-left-color: var(--fill-color);\n",
              "      border-top-color: var(--fill-color);\n",
              "    }\n",
              "    30% {\n",
              "      border-color: transparent;\n",
              "      border-left-color: var(--fill-color);\n",
              "      border-top-color: var(--fill-color);\n",
              "      border-right-color: var(--fill-color);\n",
              "    }\n",
              "    40% {\n",
              "      border-color: transparent;\n",
              "      border-right-color: var(--fill-color);\n",
              "      border-top-color: var(--fill-color);\n",
              "    }\n",
              "    60% {\n",
              "      border-color: transparent;\n",
              "      border-right-color: var(--fill-color);\n",
              "    }\n",
              "    80% {\n",
              "      border-color: transparent;\n",
              "      border-right-color: var(--fill-color);\n",
              "      border-bottom-color: var(--fill-color);\n",
              "    }\n",
              "    90% {\n",
              "      border-color: transparent;\n",
              "      border-bottom-color: var(--fill-color);\n",
              "    }\n",
              "  }\n",
              "</style>\n",
              "\n",
              "  <script>\n",
              "    async function quickchart(key) {\n",
              "      const quickchartButtonEl =\n",
              "        document.querySelector('#' + key + ' button');\n",
              "      quickchartButtonEl.disabled = true;  // To prevent multiple clicks.\n",
              "      quickchartButtonEl.classList.add('colab-df-spinner');\n",
              "      try {\n",
              "        const charts = await google.colab.kernel.invokeFunction(\n",
              "            'suggestCharts', [key], {});\n",
              "      } catch (error) {\n",
              "        console.error('Error during call to suggestCharts:', error);\n",
              "      }\n",
              "      quickchartButtonEl.classList.remove('colab-df-spinner');\n",
              "      quickchartButtonEl.classList.add('colab-df-quickchart-complete');\n",
              "    }\n",
              "    (() => {\n",
              "      let quickchartButtonEl =\n",
              "        document.querySelector('#df-8e1a8a10-d6f6-4986-abde-ba8bc3644611 button');\n",
              "      quickchartButtonEl.style.display =\n",
              "        google.colab.kernel.accessAllowed ? 'block' : 'none';\n",
              "    })();\n",
              "  </script>\n",
              "</div>\n",
              "\n",
              "    </div>\n",
              "  </div>\n"
            ],
            "application/vnd.google.colaboratory.intrinsic+json": {
              "type": "dataframe",
              "variable_name": "df"
            }
          },
          "metadata": {},
          "execution_count": 4
        }
      ]
    },
    {
      "cell_type": "code",
      "source": [
        "temp = df[:200000]\n",
        "_X = temp.drop(['id','target'],axis =1)\n",
        "_y=temp.target\n",
        "metadata_matrix_dataframe = get_meta_data(df)\n",
        "metadata_matrix_dataframe[\"dt_name\"] =[ i.split(\"_\")[-1] for i in metadata_matrix_dataframe.index.values]\n",
        "metadata_matrix_dataframe['dt_name'] = metadata_matrix_dataframe['dt_name'].apply(lambda x : \"interval\" if str(x).isnumeric() else x)"
      ],
      "metadata": {
        "id": "2T0xm093gEoy"
      },
      "execution_count": null,
      "outputs": []
    },
    {
      "cell_type": "code",
      "source": [
        "Dtype = metadata_matrix_dataframe.groupby(['dt_name'])\n",
        "\n",
        "interval_feature =Dtype.get_group(\"interval\").index.tolist()\n",
        "bin_feature = Dtype.get_group(\"bin\").index.tolist()\n",
        "cat_feature = Dtype.get_group(\"cat\").index.tolist()"
      ],
      "metadata": {
        "id": "0qOiFty0gVYy"
      },
      "execution_count": null,
      "outputs": []
    },
    {
      "cell_type": "code",
      "source": [
        "print(len(interval_feature),len(bin_feature),len(cat_feature))\n"
      ],
      "metadata": {
        "colab": {
          "base_uri": "https://localhost:8080/"
        },
        "id": "gSqk7TG7gY3o",
        "outputId": "bc9aa467-17d1-4163-964c-feae5477793d"
      },
      "execution_count": null,
      "outputs": [
        {
          "output_type": "stream",
          "name": "stdout",
          "text": [
            "26 17 14\n"
          ]
        }
      ]
    },
    {
      "cell_type": "code",
      "source": [
        "_y.value_counts()"
      ],
      "metadata": {
        "colab": {
          "base_uri": "https://localhost:8080/"
        },
        "id": "toEnRGFugtNn",
        "outputId": "f43cccc1-fcfa-46e4-daa3-b7fbf17b27b4"
      },
      "execution_count": null,
      "outputs": [
        {
          "output_type": "execute_result",
          "data": {
            "text/plain": [
              "0    27942\n",
              "1     1091\n",
              "Name: target, dtype: int64"
            ]
          },
          "metadata": {},
          "execution_count": 11
        }
      ]
    },
    {
      "cell_type": "markdown",
      "source": [
        "**1.Write at least 3 important inferences from the data above**\n",
        "\n",
        "**Ans.:**\n",
        "\n",
        "**Data is higly imblaced, target distribtion is:**\n",
        "\n",
        "0 = 96.36 %\n",
        "\n",
        "1 = 3.64 %\n",
        "\n",
        "**data have variable type:**\n",
        "\n",
        "Interval = 45.6%\n",
        "\n",
        "binary =29.8%\n",
        "\n",
        "categorical = 24.6%\n",
        "\n",
        "**Most of the features are uncorrelated**"
      ],
      "metadata": {
        "id": "fZbRU-nOiQpF"
      }
    },
    {
      "cell_type": "markdown",
      "source": [
        "**2.Is the data balanced? Meaning are targets 0 and 1 in the right proportion?**\n",
        "\n",
        "**Ans.:**\n",
        "**No, data not balanced. I shown below.**"
      ],
      "metadata": {
        "id": "pTkQzrf9jQ3z"
      }
    },
    {
      "cell_type": "code",
      "source": [
        "perc = (df['target'].value_counts()/(df.shape[0]))*100\n",
        "print(\"Percentge distribution of class '1' & class '0':\\n\\n\",perc)\n",
        "perc.plot.bar();"
      ],
      "metadata": {
        "colab": {
          "base_uri": "https://localhost:8080/",
          "height": 518
        },
        "id": "TA3go4_8iGCr",
        "outputId": "439deb7a-7d62-4cef-a632-0122f610a33a"
      },
      "execution_count": null,
      "outputs": [
        {
          "output_type": "stream",
          "name": "stdout",
          "text": [
            "Percentge distribution of class '1' & class '0':\n",
            "\n",
            " 0                  96.24\n",
            "1                   3.76\n",
            "Name: target, dtype: float64\n"
          ]
        },
        {
          "output_type": "display_data",
          "data": {
            "text/plain": [
              "<Figure size 640x480 with 1 Axes>"
            ],
            "image/png": "[encoded data removed]"
          },
          "metadata": {}
        }
      ]
    },
    {
      "cell_type": "markdown",
      "source": [
        "**3.How many categorical features are there?**"
      ],
      "metadata": {
        "id": "8JAKzK0HkiMX"
      }
    },
    {
      "cell_type": "code",
      "source": [
        "group_variable_type = metadata_matrix_dataframe.groupby('Variable_Type')\n",
        "print(\"categorical features count:\",group_variable_type.get_group('Categorical').shape[0])"
      ],
      "metadata": {
        "colab": {
          "base_uri": "https://localhost:8080/"
        },
        "id": "d6yD2csbjgRT",
        "outputId": "0fbdf174-7763-406f-8cb9-f0221710386f"
      },
      "execution_count": null,
      "outputs": [
        {
          "output_type": "stream",
          "name": "stdout",
          "text": [
            "categorical features count: 51\n"
          ]
        }
      ]
    },
    {
      "cell_type": "markdown",
      "source": [],
      "metadata": {
        "id": "VIy9Bmomkxf_"
      }
    },
    {
      "cell_type": "code",
      "source": [
        "temp = df[interval_feature].corr()\n",
        "temp = temp[(temp>=0.5) | (temp<=-0.5)].fillna(0)\n",
        "fig, ax = plt.subplots(figsize=(12,10))\n",
        "sns.heatmap(temp,linewidths=.5, cmap=\"YlGnBu\",ax=ax)\n",
        "plt.show()"
      ],
      "metadata": {
        "colab": {
          "base_uri": "https://localhost:8080/",
          "height": 909
        },
        "id": "XSNsrCtQjmMx",
        "outputId": "28760405-1261-4fae-9bce-bbd8ac58ec09"
      },
      "execution_count": null,
      "outputs": [
        {
          "output_type": "display_data",
          "data": {
            "text/plain": [
              "<Figure size 1200x1000 with 2 Axes>"
            ],
            "image/png": "[encoded data removed]"
          },
          "metadata": {}
        }
      ]
    },
    {
      "cell_type": "markdown",
      "source": [
        "**5.Write inferences from data on interval variable**\n",
        "\n",
        "**Ans :** Almost all the features are independent, Looking at above plot only 3 features are correlated with correlation near 0.5."
      ],
      "metadata": {
        "id": "7zct6GvPlLmD"
      }
    },
    {
      "cell_type": "code",
      "source": [
        "d ={}\n",
        "for i in df[cat_feature].columns:\n",
        "    d[i] = df[cat_feature][i].nunique()\n",
        "\n",
        "pd.DataFrame(d,index=['unique values']).T.plot.bar(figsize=(16,8));"
      ],
      "metadata": {
        "colab": {
          "base_uri": "https://localhost:8080/",
          "height": 774
        },
        "id": "TfclrRzekwvD",
        "outputId": "f104ba69-1d77-4b81-af27-a8c16c0faea1"
      },
      "execution_count": null,
      "outputs": [
        {
          "output_type": "display_data",
          "data": {
            "text/plain": [
              "<Figure size 1600x800 with 1 Axes>"
            ],
            "image/png": "[encoded data removed]"
          },
          "metadata": {}
        }
      ]
    },
    {
      "cell_type": "markdown",
      "source": [
        "**6.Write inferences from data on ordinal variables.**\n",
        "\n",
        "**Ans**: Looking at above graph only one feature have unqiue values more than 20\""
      ],
      "metadata": {
        "id": "9wi4fiBOltUs"
      }
    },
    {
      "cell_type": "code",
      "source": [
        "col = metadata_matrix_dataframe[metadata_matrix_dataframe['Unique_Values_Count'] == 2].index\n",
        "df_1 = pd.DataFrame((df[col].sum()/df[col].shape[0])*100, columns=['Percentage of 1'])\n",
        "df_1.plot.bar(figsize=(16,8));\n"
      ],
      "metadata": {
        "colab": {
          "base_uri": "https://localhost:8080/",
          "height": 780
        },
        "id": "AsJMLKvrlngH",
        "outputId": "1b1faa54-4198-4634-91fb-6def0b8b2882"
      },
      "execution_count": null,
      "outputs": [
        {
          "output_type": "display_data",
          "data": {
            "text/plain": [
              "<Figure size 1600x800 with 1 Axes>"
            ],
            "image/png": "[encoded data removed]"
          },
          "metadata": {}
        }
      ]
    },
    {
      "cell_type": "markdown",
      "source": [
        "**7.Write inferences from data on binary variables.**\n",
        "\n",
        "**Ans** : Looking at above graph % of 1's is near for *ps_ind_10_bin, ps_ind_11_bin, ps_ind_12_bin, ps_ind_13_bin."
      ],
      "metadata": {
        "id": "29kXoiOZmKMk"
      }
    },
    {
      "cell_type": "markdown",
      "source": [
        "**8.Check if the target data is proportionate or not. Hint: Below than 30% for binary data is sign of imbalance?**"
      ],
      "metadata": {
        "id": "vFcNh34qniov"
      }
    },
    {
      "cell_type": "code",
      "source": [
        "Per1= np.round((df[df['target']==1].shape[0]*100)/ df.shape[0],2)\n",
        "Per0= np.round((df[df['target']==0].shape[0]*100)/ df.shape[0],2)\n",
        "\n",
        "print('Target=1 shape:',df[df['target']==1].shape, Per1,'%','\\nTarget=0 shape:',df[df['target']==0].shape,Per0,'%')\n",
        "print(\"\\n # This Data shows that it's imbalanced\")\n",
        "sns.countplot(x= df['target'])\n",
        "plt.show()"
      ],
      "metadata": {
        "colab": {
          "base_uri": "https://localhost:8080/",
          "height": 527
        },
        "id": "px_VcJEWmJkE",
        "outputId": "83f56ee6-f91e-4d94-a845-9b1e264f0482"
      },
      "execution_count": null,
      "outputs": [
        {
          "output_type": "stream",
          "name": "stdout",
          "text": [
            "Target=1 shape: (1091, 59) 3.76 % \n",
            "Target=0 shape: (27942, 59) 96.24 %\n",
            "\n",
            " # This Data shows that it's imbalanced\n"
          ]
        },
        {
          "output_type": "display_data",
          "data": {
            "text/plain": [
              "<Figure size 640x480 with 1 Axes>"
            ],
            "image/png": "[encoded data removed]"
          },
          "metadata": {}
        }
      ]
    },
    {
      "cell_type": "markdown",
      "source": [
        "**9.What should be the preferred way in this case to balance the data?**\n",
        "\n",
        "\n",
        "**Ans:** The most popular solution to an imbalanced classification problem is to change the composition of the training dataset.Techniques designed to change the class distribution in the training dataset are generally referred to as sampling methods or resampling methods as we are sampling an existing data sample"
      ],
      "metadata": {
        "id": "6Vour1iCntYO"
      }
    },
    {
      "cell_type": "markdown",
      "source": [
        "**10.How many training records are there after achieving a balance of 12%?**"
      ],
      "metadata": {
        "id": "U_EETs0Bn6P9"
      }
    },
    {
      "cell_type": "code",
      "source": [
        "# resampling technique, Spliting data into classes\n",
        "df_mino= df[df['target']==1]\n",
        "df_majo= df[df['target']==0]\n",
        "df_mino_upsampled = resample(df_mino,replace=True,n_samples=int(len(df_majo)*0.12), random_state = 42)\n",
        "print(\"Size of data, after achieving a balance of 12%: \", df_mino_upsampled.shape[0] + df_majo.shape[0])"
      ],
      "metadata": {
        "colab": {
          "base_uri": "https://localhost:8080/"
        },
        "id": "VEzu5L1fnomx",
        "outputId": "3701b6f4-8a97-415c-9e65-41bd06f3db81"
      },
      "execution_count": null,
      "outputs": [
        {
          "output_type": "stream",
          "name": "stdout",
          "text": [
            "Size of data, after achieving a balance of 12%:  31295\n"
          ]
        }
      ]
    },
    {
      "cell_type": "code",
      "source": [
        "#Applying Resampling to make balance data-set\n",
        "df_mino_upsampled = resample(df_mino,replace=True,n_samples=len(df_majo), random_state = 42)\n",
        "df = pd.concat([df_majo,df_mino_upsampled])\n",
        "print(\"Class compostion after resampling:\")\n",
        "print(df['target'].value_counts())\n",
        "df['target'].value_counts().plot.bar();"
      ],
      "metadata": {
        "colab": {
          "base_uri": "https://localhost:8080/",
          "height": 498
        },
        "id": "vCVmVBFDoYIS",
        "outputId": "db40a80c-ad6f-49be-e2e6-7139a8f62891"
      },
      "execution_count": null,
      "outputs": [
        {
          "output_type": "stream",
          "name": "stdout",
          "text": [
            "Class compostion after resampling:\n",
            "0    27942\n",
            "1    27942\n",
            "Name: target, dtype: int64\n"
          ]
        },
        {
          "output_type": "display_data",
          "data": {
            "text/plain": [
              "<Figure size 640x480 with 1 Axes>"
            ],
            "image/png": "[encoded data removed]"
          },
          "metadata": {}
        }
      ]
    },
    {
      "cell_type": "markdown",
      "source": [
        "Now both the classes have equal counts"
      ],
      "metadata": {
        "id": "W4A8I1zVo3OX"
      }
    },
    {
      "cell_type": "markdown",
      "source": [
        "**11.Which are the top two features in terms of missing values?**\n",
        "\n",
        "**Ans:** No Missing Value Found.\n",
        "\n",
        "**12.In total, how many features have missing values?**\n",
        "\n",
        "\n",
        "**Ans:** No Feature having missing values\n",
        "\n",
        "**13.What steps should be taken to handle the missing data?**\n",
        "**Ans:**\n",
        "* Deleting Rows with missing values\n",
        "* Impute missing values for continuous variable\n",
        "* Impute missing values for categorical variable\n",
        "* Other Imputation Methods\n",
        "* Using Algorithms that support missing values\n",
        "* Prediction of missing values\n",
        "* Imputation using Deep Learning Library\n",
        "\n",
        "**14.Which interval variables have strong correlation?**\n"
      ],
      "metadata": {
        "id": "C62dCJKHpB1Q"
      }
    },
    {
      "cell_type": "code",
      "source": [
        "temp = df[interval_feature].corr()\n",
        "temp = temp[(temp>=0.5) | (temp<=-0.5)].fillna(0)\n",
        "fig, ax = plt.subplots(figsize=(12,10))\n",
        "sns.heatmap(temp,linewidths=.5, cmap=\"YlGnBu\",ax=ax)\n",
        "plt.show()"
      ],
      "metadata": {
        "colab": {
          "base_uri": "https://localhost:8080/",
          "height": 909
        },
        "id": "JZbYAgy3ozvP",
        "outputId": "f7374789-0179-4f14-ff04-9f4bba0633fa"
      },
      "execution_count": null,
      "outputs": [
        {
          "output_type": "display_data",
          "data": {
            "text/plain": [
              "<Figure size 1200x1000 with 2 Axes>"
            ],
            "image/png": "[encoded data removed]"
          },
          "metadata": {}
        }
      ]
    },
    {
      "cell_type": "markdown",
      "source": [
        "interval Variable with high correlation(abs value more than 0.5)\n",
        "\n",
        "ps_reg_03 --> ps_reg_02 & ps_reg_01\n",
        "\n",
        "\n",
        "ps_reg_13 --> ps_reg_12"
      ],
      "metadata": {
        "id": "vE7GePhwrCuU"
      }
    },
    {
      "cell_type": "markdown",
      "source": [
        "**15.What's the level of correlation among ordinal features?**"
      ],
      "metadata": {
        "id": "usnjvOBVrd_V"
      }
    },
    {
      "cell_type": "code",
      "source": [
        "temp = df[cat_feature].corr()\n",
        "temp = temp[(temp>=0.3) | (temp<=-0.3)].fillna(0)\n",
        "fig, ax = plt.subplots(figsize=(10,10))\n",
        "sns.heatmap(temp,linewidths=.3, cmap=\"YlGnBu\",ax=ax)\n",
        "plt.show()"
      ],
      "metadata": {
        "colab": {
          "base_uri": "https://localhost:8080/",
          "height": 934
        },
        "id": "JFcs1aurqznW",
        "outputId": "2fb28fed-958f-440e-a1b9-a2b7c7795285"
      },
      "execution_count": null,
      "outputs": [
        {
          "output_type": "display_data",
          "data": {
            "text/plain": [
              "<Figure size 1000x1000 with 2 Axes>"
            ],
            "image/png": "[encoded data removed]"
          },
          "metadata": {}
        }
      ]
    },
    {
      "cell_type": "markdown",
      "source": [
        "Ordinal Variable with high correlation(abs value more than 0.5)\n",
        "\n",
        "ps_car_03_cat --> ps_car_05_cat\n",
        "\n",
        "ps_car_05_cat --> ps_car_09_cat"
      ],
      "metadata": {
        "id": "LHLtlWUGr1X-"
      }
    },
    {
      "cell_type": "markdown",
      "source": [
        "**16.Implement Hot Encoding for categorical features?**\n",
        "\n",
        "**Ans:** No, nominal Features are available\n",
        "\n",
        "**17.In nominal and interval features, which features are suitable for StandardScaler?**\n",
        "\n",
        "**Ans:**\n",
        "\n",
        "Nominal featues are not suitable for StandardScaler\n",
        "\n",
        "We can apply StandardScaler in interval features"
      ],
      "metadata": {
        "id": "GG-jobvHsB60"
      }
    },
    {
      "cell_type": "code",
      "source": [
        "_X.info()"
      ],
      "metadata": {
        "colab": {
          "base_uri": "https://localhost:8080/"
        },
        "id": "hG14mG5Csy5X",
        "outputId": "0baa7643-7c1f-42a5-8340-84a06c7f954d"
      },
      "execution_count": null,
      "outputs": [
        {
          "output_type": "stream",
          "name": "stdout",
          "text": [
            "<class 'pandas.core.frame.DataFrame'>\n",
            "RangeIndex: 29033 entries, 0 to 29032\n",
            "Data columns (total 57 columns):\n",
            " #   Column          Non-Null Count  Dtype  \n",
            "---  ------          --------------  -----  \n",
            " 0   ps_ind_01       29033 non-null  int64  \n",
            " 1   ps_ind_02_cat   29033 non-null  int64  \n",
            " 2   ps_ind_03       29033 non-null  int64  \n",
            " 3   ps_ind_04_cat   29033 non-null  int64  \n",
            " 4   ps_ind_05_cat   29033 non-null  int64  \n",
            " 5   ps_ind_06_bin   29033 non-null  int64  \n",
            " 6   ps_ind_07_bin   29033 non-null  int64  \n",
            " 7   ps_ind_08_bin   29033 non-null  int64  \n",
            " 8   ps_ind_09_bin   29033 non-null  int64  \n",
            " 9   ps_ind_10_bin   29033 non-null  int64  \n",
            " 10  ps_ind_11_bin   29033 non-null  int64  \n",
            " 11  ps_ind_12_bin   29033 non-null  int64  \n",
            " 12  ps_ind_13_bin   29033 non-null  int64  \n",
            " 13  ps_ind_14       29033 non-null  int64  \n",
            " 14  ps_ind_15       29033 non-null  int64  \n",
            " 15  ps_ind_16_bin   29033 non-null  int64  \n",
            " 16  ps_ind_17_bin   29033 non-null  int64  \n",
            " 17  ps_ind_18_bin   29033 non-null  int64  \n",
            " 18  ps_reg_01       29033 non-null  float64\n",
            " 19  ps_reg_02       29033 non-null  float64\n",
            " 20  ps_reg_03       29033 non-null  float64\n",
            " 21  ps_car_01_cat   29033 non-null  int64  \n",
            " 22  ps_car_02_cat   29033 non-null  int64  \n",
            " 23  ps_car_03_cat   29033 non-null  int64  \n",
            " 24  ps_car_04_cat   29033 non-null  int64  \n",
            " 25  ps_car_05_cat   29033 non-null  int64  \n",
            " 26  ps_car_06_cat   29033 non-null  int64  \n",
            " 27  ps_car_07_cat   29033 non-null  int64  \n",
            " 28  ps_car_08_cat   29033 non-null  int64  \n",
            " 29  ps_car_09_cat   29033 non-null  int64  \n",
            " 30  ps_car_10_cat   29033 non-null  int64  \n",
            " 31  ps_car_11_cat   29033 non-null  int64  \n",
            " 32  ps_car_11       29033 non-null  int64  \n",
            " 33  ps_car_12       29033 non-null  float64\n",
            " 34  ps_car_13       29033 non-null  float64\n",
            " 35  ps_car_14       29033 non-null  float64\n",
            " 36  ps_car_15       29033 non-null  float64\n",
            " 37  ps_calc_01      29032 non-null  float64\n",
            " 38  ps_calc_02      29032 non-null  float64\n",
            " 39  ps_calc_03      29032 non-null  float64\n",
            " 40  ps_calc_04      29032 non-null  float64\n",
            " 41  ps_calc_05      29032 non-null  float64\n",
            " 42  ps_calc_06      29032 non-null  float64\n",
            " 43  ps_calc_07      29032 non-null  float64\n",
            " 44  ps_calc_08      29032 non-null  float64\n",
            " 45  ps_calc_09      29032 non-null  float64\n",
            " 46  ps_calc_10      29032 non-null  float64\n",
            " 47  ps_calc_11      29032 non-null  float64\n",
            " 48  ps_calc_12      29032 non-null  float64\n",
            " 49  ps_calc_13      29032 non-null  float64\n",
            " 50  ps_calc_14      29032 non-null  float64\n",
            " 51  ps_calc_15_bin  29032 non-null  float64\n",
            " 52  ps_calc_16_bin  29032 non-null  float64\n",
            " 53  ps_calc_17_bin  29032 non-null  float64\n",
            " 54  ps_calc_18_bin  29032 non-null  float64\n",
            " 55  ps_calc_19_bin  29032 non-null  float64\n",
            " 56  ps_calc_20_bin  29032 non-null  float64\n",
            "dtypes: float64(27), int64(30)\n",
            "memory usage: 12.6 MB\n"
          ]
        }
      ]
    },
    {
      "cell_type": "code",
      "source": [
        "_X=_X.fillna(0)"
      ],
      "metadata": {
        "id": "cl16Xr7fvcwN"
      },
      "execution_count": null,
      "outputs": []
    },
    {
      "cell_type": "code",
      "source": [
        "_X.info()"
      ],
      "metadata": {
        "colab": {
          "base_uri": "https://localhost:8080/"
        },
        "id": "qwENTbOLvgVw",
        "outputId": "d0554ab5-c3ef-4c88-fb93-d2effbe0aec7"
      },
      "execution_count": null,
      "outputs": [
        {
          "output_type": "stream",
          "name": "stdout",
          "text": [
            "<class 'pandas.core.frame.DataFrame'>\n",
            "RangeIndex: 29033 entries, 0 to 29032\n",
            "Data columns (total 57 columns):\n",
            " #   Column          Non-Null Count  Dtype  \n",
            "---  ------          --------------  -----  \n",
            " 0   ps_ind_01       29033 non-null  int64  \n",
            " 1   ps_ind_02_cat   29033 non-null  int64  \n",
            " 2   ps_ind_03       29033 non-null  int64  \n",
            " 3   ps_ind_04_cat   29033 non-null  int64  \n",
            " 4   ps_ind_05_cat   29033 non-null  int64  \n",
            " 5   ps_ind_06_bin   29033 non-null  int64  \n",
            " 6   ps_ind_07_bin   29033 non-null  int64  \n",
            " 7   ps_ind_08_bin   29033 non-null  int64  \n",
            " 8   ps_ind_09_bin   29033 non-null  int64  \n",
            " 9   ps_ind_10_bin   29033 non-null  int64  \n",
            " 10  ps_ind_11_bin   29033 non-null  int64  \n",
            " 11  ps_ind_12_bin   29033 non-null  int64  \n",
            " 12  ps_ind_13_bin   29033 non-null  int64  \n",
            " 13  ps_ind_14       29033 non-null  int64  \n",
            " 14  ps_ind_15       29033 non-null  int64  \n",
            " 15  ps_ind_16_bin   29033 non-null  int64  \n",
            " 16  ps_ind_17_bin   29033 non-null  int64  \n",
            " 17  ps_ind_18_bin   29033 non-null  int64  \n",
            " 18  ps_reg_01       29033 non-null  float64\n",
            " 19  ps_reg_02       29033 non-null  float64\n",
            " 20  ps_reg_03       29033 non-null  float64\n",
            " 21  ps_car_01_cat   29033 non-null  int64  \n",
            " 22  ps_car_02_cat   29033 non-null  int64  \n",
            " 23  ps_car_03_cat   29033 non-null  int64  \n",
            " 24  ps_car_04_cat   29033 non-null  int64  \n",
            " 25  ps_car_05_cat   29033 non-null  int64  \n",
            " 26  ps_car_06_cat   29033 non-null  int64  \n",
            " 27  ps_car_07_cat   29033 non-null  int64  \n",
            " 28  ps_car_08_cat   29033 non-null  int64  \n",
            " 29  ps_car_09_cat   29033 non-null  int64  \n",
            " 30  ps_car_10_cat   29033 non-null  int64  \n",
            " 31  ps_car_11_cat   29033 non-null  int64  \n",
            " 32  ps_car_11       29033 non-null  int64  \n",
            " 33  ps_car_12       29033 non-null  float64\n",
            " 34  ps_car_13       29033 non-null  float64\n",
            " 35  ps_car_14       29033 non-null  float64\n",
            " 36  ps_car_15       29033 non-null  float64\n",
            " 37  ps_calc_01      29033 non-null  float64\n",
            " 38  ps_calc_02      29033 non-null  float64\n",
            " 39  ps_calc_03      29033 non-null  float64\n",
            " 40  ps_calc_04      29033 non-null  float64\n",
            " 41  ps_calc_05      29033 non-null  float64\n",
            " 42  ps_calc_06      29033 non-null  float64\n",
            " 43  ps_calc_07      29033 non-null  float64\n",
            " 44  ps_calc_08      29033 non-null  float64\n",
            " 45  ps_calc_09      29033 non-null  float64\n",
            " 46  ps_calc_10      29033 non-null  float64\n",
            " 47  ps_calc_11      29033 non-null  float64\n",
            " 48  ps_calc_12      29033 non-null  float64\n",
            " 49  ps_calc_13      29033 non-null  float64\n",
            " 50  ps_calc_14      29033 non-null  float64\n",
            " 51  ps_calc_15_bin  29033 non-null  float64\n",
            " 52  ps_calc_16_bin  29033 non-null  float64\n",
            " 53  ps_calc_17_bin  29033 non-null  float64\n",
            " 54  ps_calc_18_bin  29033 non-null  float64\n",
            " 55  ps_calc_19_bin  29033 non-null  float64\n",
            " 56  ps_calc_20_bin  29033 non-null  float64\n",
            "dtypes: float64(27), int64(30)\n",
            "memory usage: 12.6 MB\n"
          ]
        }
      ]
    },
    {
      "cell_type": "code",
      "source": [
        "clf=RandomForestClassifier(n_estimators=100)\n",
        "clf.fit(_X,_y)\n",
        "\n",
        "feature_imp = pd.Series(clf.feature_importances_,index=_X.columns).sort_values(ascending=False)\n",
        "imp = pd.DataFrame(feature_imp).reset_index()\n",
        "imp.columns = [\"Features\", 'Imp']\n",
        "\n",
        "imp['Imp'] = (imp['Imp']/max(imp['Imp']))*100\n",
        "col = imp[imp[\"Imp\"]>25]['Features'].tolist()"
      ],
      "metadata": {
        "id": "6QCxJtyYrucf"
      },
      "execution_count": null,
      "outputs": []
    },
    {
      "cell_type": "code",
      "source": [
        "# Creating a bar plot\n",
        "plt.figure(figsize = (20,7))\n",
        "sns.barplot(x=_X.columns, y=imp.Imp)\n",
        "plt.xlabel('Feature Importance Score')\n",
        "plt.xticks(rotation=90)\n",
        "plt.ylabel('Features')\n",
        "plt.title(\"Visualizing Important Features\")\n",
        "plt.show()"
      ],
      "metadata": {
        "colab": {
          "base_uri": "https://localhost:8080/",
          "height": 686
        },
        "id": "EfW40bM6scsd",
        "outputId": "d0590a55-0efd-4f43-8575-de748d779846"
      },
      "execution_count": null,
      "outputs": [
        {
          "output_type": "display_data",
          "data": {
            "text/plain": [
              "<Figure size 2000x700 with 1 Axes>"
            ],
            "image/png": "[encoded data removed]"
          },
          "metadata": {}
        }
      ]
    },
    {
      "cell_type": "code",
      "source": [
        "print(\"Top 10 ordered important features\")\n",
        "print(imp[:10].Features);"
      ],
      "metadata": {
        "colab": {
          "base_uri": "https://localhost:8080/"
        },
        "id": "2Fq-RthGv9CO",
        "outputId": "ca08fc0b-41d2-403f-c53a-3f2cbf31c395"
      },
      "execution_count": null,
      "outputs": [
        {
          "output_type": "stream",
          "name": "stdout",
          "text": [
            "Top 10 ordered important features\n",
            "0        ps_car_13\n",
            "1        ps_reg_03\n",
            "2        ps_car_14\n",
            "3       ps_calc_10\n",
            "4       ps_calc_14\n",
            "5    ps_car_11_cat\n",
            "6       ps_calc_11\n",
            "7        ps_ind_15\n",
            "8        ps_reg_02\n",
            "9       ps_calc_02\n",
            "Name: Features, dtype: object\n"
          ]
        }
      ]
    },
    {
      "cell_type": "markdown",
      "source": [
        "**18.Summarize the learnings of ED**\n",
        "\n",
        "**Data is higly imblaced, target distribtion is:**\n",
        "\n",
        "0 = 96.36 %\n",
        "\n",
        "1 = 3.64 %\n",
        "\n",
        "Most of the features are uncorrelated\n",
        "________________________________________________________________\n",
        "\n",
        "**Top 10 ordered important features**\n",
        "\n",
        "ps_car_13\n",
        "\n",
        "ps_reg_03\n",
        "\n",
        "ps_car_14\n",
        "\n",
        "ps_calc_10\n",
        "\n",
        "ps_calc_14\n",
        "\n",
        "ps_calc_11\n",
        "\n",
        "ps_car_11_cat\n",
        "\n",
        "ps_ind_15\n",
        "\n",
        "ps_ind_03\n",
        "\n",
        "ps_calc_01"
      ],
      "metadata": {
        "id": "ZxVfo8x6wh8H"
      }
    },
    {
      "cell_type": "markdown",
      "source": [
        "###Spliting data in feature & target (70:30)"
      ],
      "metadata": {
        "id": "cOb4HCqcxedQ"
      }
    },
    {
      "cell_type": "code",
      "source": [
        "x= df.drop(['target','id'], axis=1)\n",
        "y= df['target']\n",
        "x=x.fillna(0)"
      ],
      "metadata": {
        "id": "RNKZTzF4wf7a"
      },
      "execution_count": null,
      "outputs": []
    },
    {
      "cell_type": "code",
      "source": [
        "from sklearn.model_selection import train_test_split\n",
        "X_train,X_test,y_train,y_test = train_test_split(x, y, test_size = 0.3,random_state = 1)\n"
      ],
      "metadata": {
        "id": "FVBo9u6kxjrj"
      },
      "execution_count": null,
      "outputs": []
    },
    {
      "cell_type": "markdown",
      "source": [
        "Feature Scaling"
      ],
      "metadata": {
        "id": "sAVjUP_ZyNBf"
      }
    },
    {
      "cell_type": "code",
      "source": [
        "from sklearn.preprocessing import StandardScaler\n",
        "scaler = StandardScaler()\n",
        "# Fit only to the training data\n",
        "scaler.fit(X_train)\n",
        "# Now apply the transformations to the data:\n",
        "X_train = scaler.transform(X_train)\n",
        "X_test = scaler.transform(X_test)"
      ],
      "metadata": {
        "id": "49cyfzr9xzbc"
      },
      "execution_count": null,
      "outputs": []
    },
    {
      "cell_type": "markdown",
      "source": [
        "Logistic Regression (Before Resampling)"
      ],
      "metadata": {
        "id": "Bb_MfojZycqt"
      }
    },
    {
      "cell_type": "code",
      "source": [
        "x_= df1.drop(['target','id'], axis=1)\n",
        "y_= df1['target']\n",
        "\n",
        "x_=x_.fillna(0)\n",
        "\n",
        "from sklearn.model_selection import train_test_split as tts\n",
        "X_Train,X_Test,y_Train,y_Test = tts(x_, y_, test_size = 0.3,random_state = 1)\n",
        "\n",
        "log_reg = LogisticRegression()\n",
        "log_reg.fit(X_Train, y_Train)\n",
        "\n",
        "# y_pred_train = log_reg.predict(X_Train)\n",
        "y_pred_logreg1 = log_reg.predict(X_Test)\n",
        "\n",
        "accuracy_result(y_Test, y_pred_logreg1)"
      ],
      "metadata": {
        "colab": {
          "base_uri": "https://localhost:8080/"
        },
        "id": "B4LZuWbjyWO7",
        "outputId": "a48b1a03-27a4-4e48-cd04-964852281fb2"
      },
      "execution_count": null,
      "outputs": [
        {
          "output_type": "stream",
          "name": "stdout",
          "text": [
            "\n",
            " CONFUSION MATRIX:\n",
            "  [[8395    0]\n",
            " [ 315    0]] \n",
            "\n",
            "FPR:  0.0\n",
            "TPR/ RECALL/ SENSTIVITY:  0.0\n",
            "PRECISION: 0.0\n",
            "SPECIFICITY:  1.0\n",
            "ACCURACY:  0.964\n",
            "ROC AUC:  0.5\n",
            "Cohens kappa:  0.0\n",
            "F1 score:  0.0\n",
            "\n",
            " CLASSIFICATION REPORT: \n",
            "               precision    recall  f1-score   support\n",
            "\n",
            "           0       0.96      1.00      0.98      8395\n",
            "           1       0.00      0.00      0.00       315\n",
            "\n",
            "    accuracy                           0.96      8710\n",
            "   macro avg       0.48      0.50      0.49      8710\n",
            "weighted avg       0.93      0.96      0.95      8710\n",
            "\n"
          ]
        }
      ]
    },
    {
      "cell_type": "markdown",
      "source": [
        "**Modeling Questions and their Answers**\n",
        "\n",
        "**Q. The Simple Logistic Regression Model seems to have high accuracy. Is that what we need at all? What is the problem with this model?**\n",
        "\n",
        "Ans.: Simple Logistic Regression Model seems to have high accuracy because of highly imbalanced data. When we use accuracy, we assign equal cost to false positives and false negatives. When that data set is imbalanced - say it has 96% of instances in one class and only 4 % in the other - there is a great way to lower the cost. Predict that every instance belongs to the majority class, get accuracy of 96% which is very high accuracy.\n",
        "\n",
        "**Accuracy = (correct classifications / number of classifications)**\n",
        "\n",
        "**Q. Why do you think f1-score is 0.**0?\n",
        "\n",
        "Ans.: In this model, the Precision and Recall both are Zero due to which F1 score also become zero.\n",
        "\n",
        "**Q. What is the precision and recall score for the model?**\n",
        "\n",
        "Ans.: In this model, the Precision and Recall both are Zero"
      ],
      "metadata": {
        "id": "VmVy3psyy9ni"
      }
    },
    {
      "cell_type": "markdown",
      "source": [
        "Logistic Regression (After Resampling)\n",
        "1. Fitting a Logistic Regressio"
      ],
      "metadata": {
        "id": "-BJZwiCt0Byw"
      }
    },
    {
      "cell_type": "code",
      "source": [
        "log_reg = LogisticRegression()\n",
        "log_reg.fit(X_train, y_train)"
      ],
      "metadata": {
        "colab": {
          "base_uri": "https://localhost:8080/",
          "height": 75
        },
        "id": "gyiiCTTXypGn",
        "outputId": "9de975b0-680b-49db-a442-4670e04abfef"
      },
      "execution_count": null,
      "outputs": [
        {
          "output_type": "execute_result",
          "data": {
            "text/plain": [
              "LogisticRegression()"
            ],
            "text/html": [
              "<style>#sk-container-id-2 {color: black;background-color: white;}#sk-container-id-2 pre{padding: 0;}#sk-container-id-2 div.sk-toggleable {background-color: white;}#sk-container-id-2 label.sk-toggleable__label {cursor: pointer;display: block;width: 100%;margin-bottom: 0;padding: 0.3em;box-sizing: border-box;text-align: center;}#sk-container-id-2 label.sk-toggleable__label-arrow:before {content: \"▸\";float: left;margin-right: 0.25em;color: #696969;}#sk-container-id-2 label.sk-toggleable__label-arrow:hover:before {color: black;}#sk-container-id-2 div.sk-estimator:hover label.sk-toggleable__label-arrow:before {color: black;}#sk-container-id-2 div.sk-toggleable__content {max-height: 0;max-width: 0;overflow: hidden;text-align: left;background-color: #f0f8ff;}#sk-container-id-2 div.sk-toggleable__content pre {margin: 0.2em;color: black;border-radius: 0.25em;background-color: #f0f8ff;}#sk-container-id-2 input.sk-toggleable__control:checked~div.sk-toggleable__content {max-height: 200px;max-width: 100%;overflow: auto;}#sk-container-id-2 input.sk-toggleable__control:checked~label.sk-toggleable__label-arrow:before {content: \"▾\";}#sk-container-id-2 div.sk-estimator input.sk-toggleable__control:checked~label.sk-toggleable__label {background-color: #d4ebff;}#sk-container-id-2 div.sk-label input.sk-toggleable__control:checked~label.sk-toggleable__label {background-color: #d4ebff;}#sk-container-id-2 input.sk-hidden--visually {border: 0;clip: rect(1px 1px 1px 1px);clip: rect(1px, 1px, 1px, 1px);height: 1px;margin: -1px;overflow: hidden;padding: 0;position: absolute;width: 1px;}#sk-container-id-2 div.sk-estimator {font-family: monospace;background-color: #f0f8ff;border: 1px dotted black;border-radius: 0.25em;box-sizing: border-box;margin-bottom: 0.5em;}#sk-container-id-2 div.sk-estimator:hover {background-color: #d4ebff;}#sk-container-id-2 div.sk-parallel-item::after {content: \"\";width: 100%;border-bottom: 1px solid gray;flex-grow: 1;}#sk-container-id-2 div.sk-label:hover label.sk-toggleable__label {background-color: #d4ebff;}#sk-container-id-2 div.sk-serial::before {content: \"\";position: absolute;border-left: 1px solid gray;box-sizing: border-box;top: 0;bottom: 0;left: 50%;z-index: 0;}#sk-container-id-2 div.sk-serial {display: flex;flex-direction: column;align-items: center;background-color: white;padding-right: 0.2em;padding-left: 0.2em;position: relative;}#sk-container-id-2 div.sk-item {position: relative;z-index: 1;}#sk-container-id-2 div.sk-parallel {display: flex;align-items: stretch;justify-content: center;background-color: white;position: relative;}#sk-container-id-2 div.sk-item::before, #sk-container-id-2 div.sk-parallel-item::before {content: \"\";position: absolute;border-left: 1px solid gray;box-sizing: border-box;top: 0;bottom: 0;left: 50%;z-index: -1;}#sk-container-id-2 div.sk-parallel-item {display: flex;flex-direction: column;z-index: 1;position: relative;background-color: white;}#sk-container-id-2 div.sk-parallel-item:first-child::after {align-self: flex-end;width: 50%;}#sk-container-id-2 div.sk-parallel-item:last-child::after {align-self: flex-start;width: 50%;}#sk-container-id-2 div.sk-parallel-item:only-child::after {width: 0;}#sk-container-id-2 div.sk-dashed-wrapped {border: 1px dashed gray;margin: 0 0.4em 0.5em 0.4em;box-sizing: border-box;padding-bottom: 0.4em;background-color: white;}#sk-container-id-2 div.sk-label label {font-family: monospace;font-weight: bold;display: inline-block;line-height: 1.2em;}#sk-container-id-2 div.sk-label-container {text-align: center;}#sk-container-id-2 div.sk-container {/* jupyter's `normalize.less` sets `[hidden] { display: none; }` but bootstrap.min.css set `[hidden] { display: none !important; }` so we also need the `!important` here to be able to override the default hidden behavior on the sphinx rendered scikit-learn.org. See: https://github.com/scikit-learn/scikit-learn/issues/21755 */display: inline-block !important;position: relative;}#sk-container-id-2 div.sk-text-repr-fallback {display: none;}</style><div id=\"sk-container-id-2\" class=\"sk-top-container\"><div class=\"sk-text-repr-fallback\"><pre>LogisticRegression()</pre><b>In a Jupyter environment, please rerun this cell to show the HTML representation or trust the notebook. <br />On GitHub, the HTML representation is unable to render, please try loading this page with nbviewer.org.</b></div><div class=\"sk-container\" hidden><div class=\"sk-item\"><div class=\"sk-estimator sk-toggleable\"><input class=\"sk-toggleable__control sk-hidden--visually\" id=\"sk-estimator-id-2\" type=\"checkbox\" checked><label for=\"sk-estimator-id-2\" class=\"sk-toggleable__label sk-toggleable__label-arrow\">LogisticRegression</label><div class=\"sk-toggleable__content\"><pre>LogisticRegression()</pre></div></div></div></div></div>"
            ]
          },
          "metadata": {},
          "execution_count": 48
        }
      ]
    },
    {
      "cell_type": "code",
      "source": [
        "log_reg = LogisticRegression()\n",
        "log_reg.fit(X_train, y_train)\n",
        "\n",
        "#y_pred_train = log_reg.predict(X_train)\n",
        "y_pred_logreg2 = log_reg.predict(X_test)\n",
        "\n",
        "accuracy_result(y_test, y_pred_logreg2)"
      ],
      "metadata": {
        "colab": {
          "base_uri": "https://localhost:8080/"
        },
        "id": "QI2337L60Mff",
        "outputId": "368e320c-bd39-46f1-bb43-892666975cf5"
      },
      "execution_count": null,
      "outputs": [
        {
          "output_type": "stream",
          "name": "stdout",
          "text": [
            "\n",
            " CONFUSION MATRIX:\n",
            "  [[5202 3288]\n",
            " [3426 4850]] \n",
            "\n",
            "FPR:  0.387\n",
            "TPR/ RECALL/ SENSTIVITY:  0.586\n",
            "PRECISION: 0.596\n",
            "SPECIFICITY:  0.613\n",
            "ACCURACY:  0.6\n",
            "ROC AUC:  0.599\n",
            "Cohens kappa:  0.199\n",
            "F1 score:  0.591\n",
            "\n",
            " CLASSIFICATION REPORT: \n",
            "               precision    recall  f1-score   support\n",
            "\n",
            "           0       0.60      0.61      0.61      8490\n",
            "           1       0.60      0.59      0.59      8276\n",
            "\n",
            "    accuracy                           0.60     16766\n",
            "   macro avg       0.60      0.60      0.60     16766\n",
            "weighted avg       0.60      0.60      0.60     16766\n",
            "\n"
          ]
        }
      ]
    },
    {
      "cell_type": "markdown",
      "source": [
        "**Q.What is the accuracy score and f1-score for the improved Logistic Regression model?**\n",
        "\n",
        "**Q.Why do you think f1-score has improved?**\n",
        "\n",
        "Ans.:\n",
        "\n",
        "**Logistic regression model (Before Resampling)**\n",
        "\n",
        "Accuracy = 0.964\n",
        "F1 score = 0.0\n",
        "\n",
        "\n",
        "**Logistic regression model (After Resampling)**\n",
        "\n",
        "Accuracy = 0.6\n",
        "F1 score = 0.591\n",
        "In above given data after resampling the F1 score is 0.591 which is improved F1 score in compare to previous score and it shows improved logistic regression model."
      ],
      "metadata": {
        "id": "viC7DrTc2PJE"
      }
    },
    {
      "cell_type": "markdown",
      "source": [
        "##Support Vector Classifier"
      ],
      "metadata": {
        "id": "7UFHgv-n7CmG"
      }
    },
    {
      "cell_type": "code",
      "source": [
        "x_tr=X_train[:10000,:]\n",
        "y_tr=y_train[:10000]\n",
        "\n",
        "## 1. svm Classifier with linear kernel\n",
        "\n",
        "#Create a svm Classifier\n",
        "clf = svm.SVC(kernel='linear')\n",
        "clf.fit(x_tr, y_tr)\n",
        "\n",
        "## 2. Predicting on Train and test data\n",
        "\n",
        "# y_pred_train = clf.predict(X_train)\n",
        "y_pred_svc = clf.predict(X_test)\n",
        "\n",
        "#  model output\n",
        "accuracy_result(y_test, y_pred_svc)"
      ],
      "metadata": {
        "colab": {
          "base_uri": "https://localhost:8080/"
        },
        "id": "IoXwiJiH3okY",
        "outputId": "cb3a8060-ce88-4551-da54-97556cbc9165"
      },
      "execution_count": null,
      "outputs": [
        {
          "output_type": "stream",
          "name": "stdout",
          "text": [
            "\n",
            " CONFUSION MATRIX:\n",
            "  [[5195 3295]\n",
            " [3484 4792]] \n",
            "\n",
            "FPR:  0.388\n",
            "TPR/ RECALL/ SENSTIVITY:  0.579\n",
            "PRECISION: 0.593\n",
            "SPECIFICITY:  0.612\n",
            "ACCURACY:  0.596\n",
            "ROC AUC:  0.595\n",
            "Cohens kappa:  0.191\n",
            "F1 score:  0.586\n",
            "\n",
            " CLASSIFICATION REPORT: \n",
            "               precision    recall  f1-score   support\n",
            "\n",
            "           0       0.60      0.61      0.61      8490\n",
            "           1       0.59      0.58      0.59      8276\n",
            "\n",
            "    accuracy                           0.60     16766\n",
            "   macro avg       0.60      0.60      0.60     16766\n",
            "weighted avg       0.60      0.60      0.60     16766\n",
            "\n"
          ]
        }
      ]
    },
    {
      "cell_type": "markdown",
      "source": [
        "**Q.: For model LinearSVC play with parameters – dual, max_iter and see if there is any improvement?**\n",
        "\n",
        "Ans.: Not any Significance Improvement\n",
        "\n",
        "**Q.: SVC with Imbalance Check & Feature Optimization & only 100K Records → is there improvement in scores?**\n",
        "\n",
        "Ans.: I fitted the SVC model on 10K dataset because on 100K dataset not able to run the model."
      ],
      "metadata": {
        "id": "LKu-iI4d7tNF"
      }
    },
    {
      "cell_type": "markdown",
      "source": [
        "XGBoost Classifier"
      ],
      "metadata": {
        "id": "GQFcgkTl751A"
      }
    },
    {
      "cell_type": "code",
      "source": [
        "## 1. Initializing XGboost Classifier\n",
        "\n",
        "xg_cls = XGBClassifier(objective='binary:logistic', colsample_bytree = 0.3, learning_rate = 0.1,\n",
        "                max_depth = 50, alpha = 10, n_estimators = 100)\n",
        "xg_cls.fit(X_train, y_train)\n",
        "\n",
        "## 2. Predicting on Train and test data\n",
        "y_pred_xgb = xg_cls.predict(X_test)\n",
        "\n",
        "# function for evaluating the model output\n",
        "accuracy_result(y_test, y_pred_xgb)"
      ],
      "metadata": {
        "colab": {
          "base_uri": "https://localhost:8080/"
        },
        "id": "Tgi4vW-e73S9",
        "outputId": "dc374d7e-beba-4bdc-bce2-dfb011be91a4"
      },
      "execution_count": null,
      "outputs": [
        {
          "output_type": "stream",
          "name": "stdout",
          "text": [
            "\n",
            " CONFUSION MATRIX:\n",
            "  [[8450   40]\n",
            " [   0 8276]] \n",
            "\n",
            "FPR:  0.005\n",
            "TPR/ RECALL/ SENSTIVITY:  1.0\n",
            "PRECISION: 0.995\n",
            "SPECIFICITY:  0.995\n",
            "ACCURACY:  0.998\n",
            "ROC AUC:  0.998\n",
            "Cohens kappa:  0.995\n",
            "F1 score:  0.998\n",
            "\n",
            " CLASSIFICATION REPORT: \n",
            "               precision    recall  f1-score   support\n",
            "\n",
            "           0       1.00      1.00      1.00      8490\n",
            "           1       1.00      1.00      1.00      8276\n",
            "\n",
            "    accuracy                           1.00     16766\n",
            "   macro avg       1.00      1.00      1.00     16766\n",
            "weighted avg       1.00      1.00      1.00     16766\n",
            "\n"
          ]
        }
      ]
    },
    {
      "cell_type": "markdown",
      "source": [
        "**Q. XGBoost is one the better classifiers -- but still f1-score is very low. What could be the reason?**\n",
        "\n",
        "Ans: In my model ,I'm getting f1 score near to 1, that indicate a best fitted model.\n",
        "\n",
        "**Q. What is the increase in number of features after one-hot encoding of the data?**\n",
        "\n",
        "Ans.: There is no need of One-hot encoding because it has been previously done.\n",
        "\n",
        "**Q. Is there any improvement in scores after encoding?**\n",
        "\n",
        "Ans.: Not happened (because There is no need of One-hot encoding so I have not done it)\n",
        "\n",
        "**Q. If not missing a positive sample is the priority which model is best so far?**\n",
        "\n",
        "Ans.: XGBoost model is performing best.Count of missing positive sample is 40\\ only.\n",
        "\n",
        "**Q. If not marking negative sample as positive is top priority, which model is best so far?**\n",
        "\n",
        "Ans.: XGBoost model is performing best. No misclassification for negative sample as positive."
      ],
      "metadata": {
        "id": "gYIT4JYP8m9w"
      }
    },
    {
      "cell_type": "markdown",
      "source": [
        "Adaboost classifier"
      ],
      "metadata": {
        "id": "nT0DYYV59LDk"
      }
    },
    {
      "cell_type": "code",
      "source": [
        "# Create adaboost classifer object\n",
        "adaBoost = AdaBoostClassifier(n_estimators=50, learning_rate=1, random_state=0)\n",
        "\n",
        "# Train Adaboost Classifer\n",
        "model1 = adaBoost.fit(X_train, y_train)\n",
        "\n",
        "\n",
        "#Predict the response for test dataset\n",
        "y_pred_ada = model1.predict(X_test)\n",
        "\n",
        "accuracy_result(y_test, y_pred_ada)"
      ],
      "metadata": {
        "colab": {
          "base_uri": "https://localhost:8080/"
        },
        "id": "QvMTDnP_8GBH",
        "outputId": "4e27da00-cb06-4107-b98a-7a1a553a213b"
      },
      "execution_count": null,
      "outputs": [
        {
          "output_type": "stream",
          "name": "stdout",
          "text": [
            "\n",
            " CONFUSION MATRIX:\n",
            "  [[5309 3181]\n",
            " [3203 5073]] \n",
            "\n",
            "FPR:  0.375\n",
            "TPR/ RECALL/ SENSTIVITY:  0.613\n",
            "PRECISION: 0.615\n",
            "SPECIFICITY:  0.625\n",
            "ACCURACY:  0.619\n",
            "ROC AUC:  0.619\n",
            "Cohens kappa:  0.238\n",
            "F1 score:  0.614\n",
            "\n",
            " CLASSIFICATION REPORT: \n",
            "               precision    recall  f1-score   support\n",
            "\n",
            "           0       0.62      0.63      0.62      8490\n",
            "           1       0.61      0.61      0.61      8276\n",
            "\n",
            "    accuracy                           0.62     16766\n",
            "   macro avg       0.62      0.62      0.62     16766\n",
            "weighted avg       0.62      0.62      0.62     16766\n",
            "\n"
          ]
        }
      ]
    },
    {
      "cell_type": "markdown",
      "source": [
        "**Q.: Do you think using AdaBoost can give any significant improvement over XGBoost?**\n",
        "\n",
        "Ans.: No improvement in AdaBoost model result because In my case XGBoost model giving much more better result (Accuracy and F1 score) in compare to AdaBoost model."
      ],
      "metadata": {
        "id": "65aoVxWH9U-3"
      }
    },
    {
      "cell_type": "markdown",
      "source": [
        "MLP Classifier"
      ],
      "metadata": {
        "id": "yEzeCeKt9b_q"
      }
    },
    {
      "cell_type": "code",
      "source": [
        "# Training the model\n",
        "mlp = MLPClassifier(hidden_layer_sizes=(10, 10, 10),activation='logistic', max_iter=200)\n",
        "mlp.fit(X_train, y_train.values.ravel())\n",
        "\n",
        "# Prediction on x_test\n",
        "y_predic = mlp.predict(X_test)\n",
        "accuracy_result(y_test,y_predic)"
      ],
      "metadata": {
        "colab": {
          "base_uri": "https://localhost:8080/"
        },
        "id": "6ABh3_3_9O7f",
        "outputId": "4615b53e-6352-4905-89d1-f5656ab6c275"
      },
      "execution_count": null,
      "outputs": [
        {
          "output_type": "stream",
          "name": "stdout",
          "text": [
            "\n",
            " CONFUSION MATRIX:\n",
            "  [[5227 3263]\n",
            " [  78 8198]] \n",
            "\n",
            "FPR:  0.384\n",
            "TPR/ RECALL/ SENSTIVITY:  0.991\n",
            "PRECISION: 0.715\n",
            "SPECIFICITY:  0.616\n",
            "ACCURACY:  0.801\n",
            "ROC AUC:  0.803\n",
            "Cohens kappa:  0.603\n",
            "F1 score:  0.831\n",
            "\n",
            " CLASSIFICATION REPORT: \n",
            "               precision    recall  f1-score   support\n",
            "\n",
            "           0       0.99      0.62      0.76      8490\n",
            "           1       0.72      0.99      0.83      8276\n",
            "\n",
            "    accuracy                           0.80     16766\n",
            "   macro avg       0.85      0.80      0.79     16766\n",
            "weighted avg       0.85      0.80      0.79     16766\n",
            "\n"
          ]
        }
      ]
    },
    {
      "cell_type": "markdown",
      "source": [
        "**Q.: MLPClassifier is the neural network we are trying. But how to choose the right no. of layers and size**?\n",
        "\n",
        "**Q.: At what layer size we get the best f1-score?**\n",
        "\n",
        "Ans.:\n",
        "\n",
        "In Generally, you can't analytically calculate the number of layers or the number of nodes to use per layer in an ANN to address a specific real-world predictive modeling problem, But there are many methods for determining the correct number of neurons to use in the hidden layers, such as the following:\n",
        "\n",
        "* The no. of hidden neurons should be between the size of the input layer and the size of the output layer.\n",
        "* The no. of hidden neurons should be 2/3 the size of the input layer, plus the size of the output layer.\n",
        "* The no. of hidden neurons should be less than twice the size of the input layer."
      ],
      "metadata": {
        "id": "9j021WPl9s_Y"
      }
    },
    {
      "cell_type": "markdown",
      "source": [
        "## Final Result Comparision"
      ],
      "metadata": {
        "id": "8v-GvAor93pZ"
      }
    },
    {
      "cell_type": "code",
      "source": [
        "data = {'Log_Reg(Before Resamp)':[np.round(f1_score(y_Test, y_pred_logreg1),3), np.round(metrics.accuracy_score(y_Test, y_pred_logreg1),3)],\n",
        "        'Log_Reg(After Resamp)':[np.round(f1_score(y_test, y_pred_logreg2),3), np.round(metrics.accuracy_score(y_test, y_pred_logreg2),3)],\n",
        "        'SVC':[np.round(f1_score(y_test, y_pred_svc),3), np.round(metrics.accuracy_score(y_test, y_pred_svc),3)],\n",
        "        'XGBoost':[np.round(f1_score(y_test, y_pred_xgb),3), np.round(metrics.accuracy_score(y_test, y_pred_xgb),3)],\n",
        "        'AdaBoost':[np.round(f1_score(y_test, y_pred_ada),3), np.round(metrics.accuracy_score(y_test, y_pred_ada),3)],\n",
        "        'MLP Classifier':[np.round(f1_score(y_test, y_predic),3), np.round(metrics.accuracy_score(y_test, y_predic),3)]}\n",
        "\n",
        "df_result=pd.DataFrame(data, index = ['F1_score', 'Accuracy']).T\n",
        "df_result"
      ],
      "metadata": {
        "colab": {
          "base_uri": "https://localhost:8080/",
          "height": 238
        },
        "id": "lRtAZwW19gKt",
        "outputId": "4eea45d1-8ebe-4607-f240-509767ace6be"
      },
      "execution_count": null,
      "outputs": [
        {
          "output_type": "execute_result",
          "data": {
            "text/plain": [
              "                                   F1_score             Accuracy\n",
              "Log_Reg(Before Resamp)                 0.00                 0.96\n",
              "Log_Reg(After Resamp)                  0.59                 0.60\n",
              "SVC                                    0.59                 0.60\n",
              "XGBoost                                1.00                 1.00\n",
              "AdaBoost                               0.61                 0.62\n",
              "MLP Classifier                         0.83                 0.80"
            ],
            "text/html": [
              "\n",
              "  <div id=\"df-0689b07d-ddeb-42c5-b0f3-82cc642cfc11\" class=\"colab-df-container\">\n",
              "    <div>\n",
              "<style scoped>\n",
              "    .dataframe tbody tr th:only-of-type {\n",
              "        vertical-align: middle;\n",
              "    }\n",
              "\n",
              "    .dataframe tbody tr th {\n",
              "        vertical-align: top;\n",
              "    }\n",
              "\n",
              "    .dataframe thead th {\n",
              "        text-align: right;\n",
              "    }\n",
              "</style>\n",
              "<table border=\"1\" class=\"dataframe\">\n",
              "  <thead>\n",
              "    <tr style=\"text-align: right;\">\n",
              "      <th></th>\n",
              "      <th>F1_score</th>\n",
              "      <th>Accuracy</th>\n",
              "    </tr>\n",
              "  </thead>\n",
              "  <tbody>\n",
              "    <tr>\n",
              "      <th>Log_Reg(Before Resamp)</th>\n",
              "      <td>0.00</td>\n",
              "      <td>0.96</td>\n",
              "    </tr>\n",
              "    <tr>\n",
              "      <th>Log_Reg(After Resamp)</th>\n",
              "      <td>0.59</td>\n",
              "      <td>0.60</td>\n",
              "    </tr>\n",
              "    <tr>\n",
              "      <th>SVC</th>\n",
              "      <td>0.59</td>\n",
              "      <td>0.60</td>\n",
              "    </tr>\n",
              "    <tr>\n",
              "      <th>XGBoost</th>\n",
              "      <td>1.00</td>\n",
              "      <td>1.00</td>\n",
              "    </tr>\n",
              "    <tr>\n",
              "      <th>AdaBoost</th>\n",
              "      <td>0.61</td>\n",
              "      <td>0.62</td>\n",
              "    </tr>\n",
              "    <tr>\n",
              "      <th>MLP Classifier</th>\n",
              "      <td>0.83</td>\n",
              "      <td>0.80</td>\n",
              "    </tr>\n",
              "  </tbody>\n",
              "</table>\n",
              "</div>\n",
              "    <div class=\"colab-df-buttons\">\n",
              "\n",
              "  <div class=\"colab-df-container\">\n",
              "    <button class=\"colab-df-convert\" onclick=\"convertToInteractive('df-0689b07d-ddeb-42c5-b0f3-82cc642cfc11')\"\n",
              "            title=\"Convert this dataframe to an interactive table.\"\n",
              "            style=\"display:none;\">\n",
              "\n",
              "  <svg xmlns=\"http://www.w3.org/2000/svg\" height=\"24px\" viewBox=\"0 -960 960 960\">\n",
              "    <path d=\"M120-120v-720h720v720H120Zm60-500h600v-160H180v160Zm220 220h160v-160H400v160Zm0 220h160v-160H400v160ZM180-400h160v-160H180v160Zm440 0h160v-160H620v160ZM180-180h160v-160H180v160Zm440 0h160v-160H620v160Z\"/>\n",
              "  </svg>\n",
              "    </button>\n",
              "\n",
              "  <style>\n",
              "    .colab-df-container {\n",
              "      display:flex;\n",
              "      gap: 12px;\n",
              "    }\n",
              "\n",
              "    .colab-df-convert {\n",
              "      background-color: #E8F0FE;\n",
              "      border: none;\n",
              "      border-radius: 50%;\n",
              "      cursor: pointer;\n",
              "      display: none;\n",
              "      fill: #1967D2;\n",
              "      height: 32px;\n",
              "      padding: 0 0 0 0;\n",
              "      width: 32px;\n",
              "    }\n",
              "\n",
              "    .colab-df-convert:hover {\n",
              "      background-color: #E2EBFA;\n",
              "      box-shadow: 0px 1px 2px rgba(60, 64, 67, 0.3), 0px 1px 3px 1px rgba(60, 64, 67, 0.15);\n",
              "      fill: #174EA6;\n",
              "    }\n",
              "\n",
              "    .colab-df-buttons div {\n",
              "      margin-bottom: 4px;\n",
              "    }\n",
              "\n",
              "    [theme=dark] .colab-df-convert {\n",
              "      background-color: #3B4455;\n",
              "      fill: #D2E3FC;\n",
              "    }\n",
              "\n",
              "    [theme=dark] .colab-df-convert:hover {\n",
              "      background-color: #434B5C;\n",
              "      box-shadow: 0px 1px 3px 1px rgba(0, 0, 0, 0.15);\n",
              "      filter: drop-shadow(0px 1px 2px rgba(0, 0, 0, 0.3));\n",
              "      fill: #FFFFFF;\n",
              "    }\n",
              "  </style>\n",
              "\n",
              "    <script>\n",
              "      const buttonEl =\n",
              "        document.querySelector('#df-0689b07d-ddeb-42c5-b0f3-82cc642cfc11 button.colab-df-convert');\n",
              "      buttonEl.style.display =\n",
              "        google.colab.kernel.accessAllowed ? 'block' : 'none';\n",
              "\n",
              "      async function convertToInteractive(key) {\n",
              "        const element = document.querySelector('#df-0689b07d-ddeb-42c5-b0f3-82cc642cfc11');\n",
              "        const dataTable =\n",
              "          await google.colab.kernel.invokeFunction('convertToInteractive',\n",
              "                                                    [key], {});\n",
              "        if (!dataTable) return;\n",
              "\n",
              "        const docLinkHtml = 'Like what you see? Visit the ' +\n",
              "          '<a target=\"_blank\" href=https://colab.research.google.com/notebooks/data_table.ipynb>data table notebook</a>'\n",
              "          + ' to learn more about interactive tables.';\n",
              "        element.innerHTML = '';\n",
              "        dataTable['output_type'] = 'display_data';\n",
              "        await google.colab.output.renderOutput(dataTable, element);\n",
              "        const docLink = document.createElement('div');\n",
              "        docLink.innerHTML = docLinkHtml;\n",
              "        element.appendChild(docLink);\n",
              "      }\n",
              "    </script>\n",
              "  </div>\n",
              "\n",
              "\n",
              "<div id=\"df-8cd3657b-00ce-46fa-a8ef-6a9f2cb950f2\">\n",
              "  <button class=\"colab-df-quickchart\" onclick=\"quickchart('df-8cd3657b-00ce-46fa-a8ef-6a9f2cb950f2')\"\n",
              "            title=\"Suggest charts\"\n",
              "            style=\"display:none;\">\n",
              "\n",
              "<svg xmlns=\"http://www.w3.org/2000/svg\" height=\"24px\"viewBox=\"0 0 24 24\"\n",
              "     width=\"24px\">\n",
              "    <g>\n",
              "        <path d=\"M19 3H5c-1.1 0-2 .9-2 2v14c0 1.1.9 2 2 2h14c1.1 0 2-.9 2-2V5c0-1.1-.9-2-2-2zM9 17H7v-7h2v7zm4 0h-2V7h2v10zm4 0h-2v-4h2v4z\"/>\n",
              "    </g>\n",
              "</svg>\n",
              "  </button>\n",
              "\n",
              "<style>\n",
              "  .colab-df-quickchart {\n",
              "      --bg-color: #E8F0FE;\n",
              "      --fill-color: #1967D2;\n",
              "      --hover-bg-color: #E2EBFA;\n",
              "      --hover-fill-color: #174EA6;\n",
              "      --disabled-fill-color: #AAA;\n",
              "      --disabled-bg-color: #DDD;\n",
              "  }\n",
              "\n",
              "  [theme=dark] .colab-df-quickchart {\n",
              "      --bg-color: #3B4455;\n",
              "      --fill-color: #D2E3FC;\n",
              "      --hover-bg-color: #434B5C;\n",
              "      --hover-fill-color: #FFFFFF;\n",
              "      --disabled-bg-color: #3B4455;\n",
              "      --disabled-fill-color: #666;\n",
              "  }\n",
              "\n",
              "  .colab-df-quickchart {\n",
              "    background-color: var(--bg-color);\n",
              "    border: none;\n",
              "    border-radius: 50%;\n",
              "    cursor: pointer;\n",
              "    display: none;\n",
              "    fill: var(--fill-color);\n",
              "    height: 32px;\n",
              "    padding: 0;\n",
              "    width: 32px;\n",
              "  }\n",
              "\n",
              "  .colab-df-quickchart:hover {\n",
              "    background-color: var(--hover-bg-color);\n",
              "    box-shadow: 0 1px 2px rgba(60, 64, 67, 0.3), 0 1px 3px 1px rgba(60, 64, 67, 0.15);\n",
              "    fill: var(--button-hover-fill-color);\n",
              "  }\n",
              "\n",
              "  .colab-df-quickchart-complete:disabled,\n",
              "  .colab-df-quickchart-complete:disabled:hover {\n",
              "    background-color: var(--disabled-bg-color);\n",
              "    fill: var(--disabled-fill-color);\n",
              "    box-shadow: none;\n",
              "  }\n",
              "\n",
              "  .colab-df-spinner {\n",
              "    border: 2px solid var(--fill-color);\n",
              "    border-color: transparent;\n",
              "    border-bottom-color: var(--fill-color);\n",
              "    animation:\n",
              "      spin 1s steps(1) infinite;\n",
              "  }\n",
              "\n",
              "  @keyframes spin {\n",
              "    0% {\n",
              "      border-color: transparent;\n",
              "      border-bottom-color: var(--fill-color);\n",
              "      border-left-color: var(--fill-color);\n",
              "    }\n",
              "    20% {\n",
              "      border-color: transparent;\n",
              "      border-left-color: var(--fill-color);\n",
              "      border-top-color: var(--fill-color);\n",
              "    }\n",
              "    30% {\n",
              "      border-color: transparent;\n",
              "      border-left-color: var(--fill-color);\n",
              "      border-top-color: var(--fill-color);\n",
              "      border-right-color: var(--fill-color);\n",
              "    }\n",
              "    40% {\n",
              "      border-color: transparent;\n",
              "      border-right-color: var(--fill-color);\n",
              "      border-top-color: var(--fill-color);\n",
              "    }\n",
              "    60% {\n",
              "      border-color: transparent;\n",
              "      border-right-color: var(--fill-color);\n",
              "    }\n",
              "    80% {\n",
              "      border-color: transparent;\n",
              "      border-right-color: var(--fill-color);\n",
              "      border-bottom-color: var(--fill-color);\n",
              "    }\n",
              "    90% {\n",
              "      border-color: transparent;\n",
              "      border-bottom-color: var(--fill-color);\n",
              "    }\n",
              "  }\n",
              "</style>\n",
              "\n",
              "  <script>\n",
              "    async function quickchart(key) {\n",
              "      const quickchartButtonEl =\n",
              "        document.querySelector('#' + key + ' button');\n",
              "      quickchartButtonEl.disabled = true;  // To prevent multiple clicks.\n",
              "      quickchartButtonEl.classList.add('colab-df-spinner');\n",
              "      try {\n",
              "        const charts = await google.colab.kernel.invokeFunction(\n",
              "            'suggestCharts', [key], {});\n",
              "      } catch (error) {\n",
              "        console.error('Error during call to suggestCharts:', error);\n",
              "      }\n",
              "      quickchartButtonEl.classList.remove('colab-df-spinner');\n",
              "      quickchartButtonEl.classList.add('colab-df-quickchart-complete');\n",
              "    }\n",
              "    (() => {\n",
              "      let quickchartButtonEl =\n",
              "        document.querySelector('#df-8cd3657b-00ce-46fa-a8ef-6a9f2cb950f2 button');\n",
              "      quickchartButtonEl.style.display =\n",
              "        google.colab.kernel.accessAllowed ? 'block' : 'none';\n",
              "    })();\n",
              "  </script>\n",
              "</div>\n",
              "\n",
              "  <div id=\"id_c64e095e-08d9-4731-89a1-8e9edc5a69d4\">\n",
              "    <style>\n",
              "      .colab-df-generate {\n",
              "        background-color: #E8F0FE;\n",
              "        border: none;\n",
              "        border-radius: 50%;\n",
              "        cursor: pointer;\n",
              "        display: none;\n",
              "        fill: #1967D2;\n",
              "        height: 32px;\n",
              "        padding: 0 0 0 0;\n",
              "        width: 32px;\n",
              "      }\n",
              "\n",
              "      .colab-df-generate:hover {\n",
              "        background-color: #E2EBFA;\n",
              "        box-shadow: 0px 1px 2px rgba(60, 64, 67, 0.3), 0px 1px 3px 1px rgba(60, 64, 67, 0.15);\n",
              "        fill: #174EA6;\n",
              "      }\n",
              "\n",
              "      [theme=dark] .colab-df-generate {\n",
              "        background-color: #3B4455;\n",
              "        fill: #D2E3FC;\n",
              "      }\n",
              "\n",
              "      [theme=dark] .colab-df-generate:hover {\n",
              "        background-color: #434B5C;\n",
              "        box-shadow: 0px 1px 3px 1px rgba(0, 0, 0, 0.15);\n",
              "        filter: drop-shadow(0px 1px 2px rgba(0, 0, 0, 0.3));\n",
              "        fill: #FFFFFF;\n",
              "      }\n",
              "    </style>\n",
              "    <button class=\"colab-df-generate\" onclick=\"generateWithVariable('df_result')\"\n",
              "            title=\"Generate code using this dataframe.\"\n",
              "            style=\"display:none;\">\n",
              "\n",
              "  <svg xmlns=\"http://www.w3.org/2000/svg\" height=\"24px\"viewBox=\"0 0 24 24\"\n",
              "       width=\"24px\">\n",
              "    <path d=\"M7,19H8.4L18.45,9,17,7.55,7,17.6ZM5,21V16.75L18.45,3.32a2,2,0,0,1,2.83,0l1.4,1.43a1.91,1.91,0,0,1,.58,1.4,1.91,1.91,0,0,1-.58,1.4L9.25,21ZM18.45,9,17,7.55Zm-12,3A5.31,5.31,0,0,0,4.9,8.1,5.31,5.31,0,0,0,1,6.5,5.31,5.31,0,0,0,4.9,4.9,5.31,5.31,0,0,0,6.5,1,5.31,5.31,0,0,0,8.1,4.9,5.31,5.31,0,0,0,12,6.5,5.46,5.46,0,0,0,6.5,12Z\"/>\n",
              "  </svg>\n",
              "    </button>\n",
              "    <script>\n",
              "      (() => {\n",
              "      const buttonEl =\n",
              "        document.querySelector('#id_c64e095e-08d9-4731-89a1-8e9edc5a69d4 button.colab-df-generate');\n",
              "      buttonEl.style.display =\n",
              "        google.colab.kernel.accessAllowed ? 'block' : 'none';\n",
              "\n",
              "      buttonEl.onclick = () => {\n",
              "        google.colab.notebook.generateWithVariable('df_result');\n",
              "      }\n",
              "      })();\n",
              "    </script>\n",
              "  </div>\n",
              "\n",
              "    </div>\n",
              "  </div>\n"
            ],
            "application/vnd.google.colaboratory.intrinsic+json": {
              "type": "dataframe",
              "variable_name": "df_result",
              "summary": "{\n  \"name\": \"df_result\",\n  \"rows\": 6,\n  \"fields\": [\n    {\n      \"column\": \"F1_score\",\n      \"properties\": {\n        \"dtype\": \"number\",\n        \"std\": 0.3382813424749681,\n        \"min\": 0.0,\n        \"max\": 0.998,\n        \"num_unique_values\": 6,\n        \"samples\": [\n          0.0,\n          0.591,\n          0.831\n        ],\n        \"semantic_type\": \"\",\n        \"description\": \"\"\n      }\n    },\n    {\n      \"column\": \"Accuracy\",\n      \"properties\": {\n        \"dtype\": \"number\",\n        \"std\": 0.1856146545938655,\n        \"min\": 0.596,\n        \"max\": 0.998,\n        \"num_unique_values\": 6,\n        \"samples\": [\n          0.964,\n          0.6,\n          0.801\n        ],\n        \"semantic_type\": \"\",\n        \"description\": \"\"\n      }\n    }\n  ]\n}"
            }
          },
          "metadata": {},
          "execution_count": 54
        }
      ]
    },
    {
      "cell_type": "markdown",
      "source": [
        "**After comparing the F1- score and Accuracy of all used Machine Learning models, we found that XGBoost model is best performing and giving best result with respect to all other**"
      ],
      "metadata": {
        "id": "IjOd9CsK-IVl"
      }
    },
    {
      "cell_type": "code",
      "source": [],
      "metadata": {
        "id": "PZJM-mbC-BuX"
      },
      "execution_count": null,
      "outputs": []
    }
  ]
}